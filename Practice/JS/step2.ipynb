{
 "cells": [
  {
   "cell_type": "code",
   "execution_count": 1,
   "metadata": {},
   "outputs": [
    {
     "name": "stderr",
     "output_type": "stream",
     "text": [
      "/Users/jean-sebastiengaultier/Desktop/UChicago/Q4/Capstone-Mosaic/capstone_venv/lib/python3.8/site-packages/tqdm/auto.py:21: TqdmWarning: IProgress not found. Please update jupyter and ipywidgets. See https://ipywidgets.readthedocs.io/en/stable/user_install.html\n",
      "  from .autonotebook import tqdm as notebook_tqdm\n"
     ]
    }
   ],
   "source": [
    "import re\n",
    "import string\n",
    "from nltk.corpus import stopwords\n",
    "import numpy as np\n",
    "from transformers import AutoTokenizer\n",
    "from sentence_transformers import SentenceTransformer\n",
    "import pdfplumber\n",
    "import os\n",
    "import faiss\n",
    "import pickle\n",
    "from transformers import pipeline\n"
   ]
  },
  {
   "cell_type": "code",
   "execution_count": 2,
   "metadata": {},
   "outputs": [],
   "source": [
    "# Preprocessing function\n",
    "def preprocess_text(text):\n",
    "    text = text.lower()  # Lowercase the text\n",
    "    text = re.sub(f\"[{re.escape(string.punctuation)}]\", \"\", text)  # Remove punctuation\n",
    "    stop_words = set(stopwords.words('english'))\n",
    "    text = \" \".join([word for word in text.split() if word not in stop_words])  # Remove stopwords\n",
    "    return text\n",
    "\n",
    "# Initialize tokenizer for token-based chunking\n",
    "tokenizer = AutoTokenizer.from_pretrained('sentence-transformers/all-MiniLM-L6-v2')\n"
   ]
  },
  {
   "cell_type": "code",
   "execution_count": 3,
   "metadata": {},
   "outputs": [],
   "source": [
    "\n",
    "# Function to chunk text based on tokens\n",
    "def chunk_text_by_tokens(text, max_tokens=512):\n",
    "    tokens = tokenizer.encode(text)\n",
    "    chunks = []\n",
    "    for i in range(0, len(tokens), max_tokens):\n",
    "        chunk = tokens[i:i+max_tokens]\n",
    "        chunks.append(tokenizer.decode(chunk, skip_special_tokens=True))\n",
    "    return chunks\n",
    "\n",
    "# Initialize text embedding model\n",
    "text_embedder = SentenceTransformer('all-MiniLM-L6-v2')  # Text embeddings\n",
    "\n",
    "# Initialize LLM\n",
    "llm = pipeline(\"text-generation\", model=\"gpt2\", device=0)  # Replace with your preferred LLM\n"
   ]
  },
  {
   "cell_type": "code",
   "execution_count": 5,
   "metadata": {},
   "outputs": [
    {
     "name": "stderr",
     "output_type": "stream",
     "text": [
      "Token indices sequence length is longer than the specified maximum sequence length for this model (47209 > 512). Running this sequence through the model will result in indexing errors\n"
     ]
    }
   ],
   "source": [
    "# Function to extract text from PDFs with preprocessing\n",
    "def extract_text_and_preprocess(pdf_path):\n",
    "    text = \"\"\n",
    "    with pdfplumber.open(pdf_path) as pdf:\n",
    "        for page in pdf.pages:\n",
    "            page_text = page.extract_text()\n",
    "            if page_text:\n",
    "                text += page_text  # Append to overall text\n",
    "    # Preprocess the text\n",
    "    text = preprocess_text(text)\n",
    "    return text\n",
    "\n",
    "# Process PDFs and create chunks\n",
    "def process_pdfs(data_folder):\n",
    "    documents = []\n",
    "    for filename in os.listdir(data_folder):\n",
    "        if filename.endswith(\".pdf\"):\n",
    "            pdf_path = os.path.join(data_folder, filename)\n",
    "            text = extract_text_and_preprocess(pdf_path)\n",
    "            chunks = chunk_text_by_tokens(text, max_tokens=512)\n",
    "            documents.append({\n",
    "                'chunks': chunks,\n",
    "                'filename': filename\n",
    "            })\n",
    "    return documents\n",
    "\n",
    "# Folder containing your PDFs\n",
    "data_folder = '../../Data/'\n",
    "\n",
    "# Process the PDFs\n",
    "documents = process_pdfs(data_folder)"
   ]
  },
  {
   "cell_type": "code",
   "execution_count": 6,
   "metadata": {},
   "outputs": [],
   "source": [
    "\n",
    "\n",
    "\n",
    "\n",
    "# Embed the chunks\n",
    "def embed_chunks(documents):\n",
    "    for document in documents:\n",
    "        document['chunk_embeddings'] = [{'text': chunk, 'embedding': text_embedder.encode(chunk, convert_to_tensor=True)} for chunk in document['chunks']]\n",
    "    return documents\n",
    "\n",
    "# Embed the chunks of all PDFs\n",
    "embedded_documents = embed_chunks(documents)\n",
    "\n",
    "# Create a vector database\n",
    "build_folder = '../Vectordatabase/'\n",
    "if not os.path.exists(build_folder):\n",
    "    os.makedirs(build_folder)\n",
    "\n",
    "# Initialize FAISS index for text chunks\n",
    "embedding_dim_text = 384  # Dimension of the sentence transformer for text\n",
    "index_text = faiss.IndexFlatL2(embedding_dim_text)\n",
    "\n",
    "# Flatten all chunk embeddings and store their metadata\n",
    "all_chunk_embeddings = []\n",
    "chunk_metadata = []\n",
    "\n",
    "for document in embedded_documents:\n",
    "    for chunk in document['chunk_embeddings']:\n",
    "        all_chunk_embeddings.append(chunk['embedding'].cpu().numpy())\n",
    "        chunk_metadata.append({'filename': document['filename'], 'text': chunk['text']})\n",
    "\n",
    "# Convert embeddings to numpy arrays\n",
    "all_chunk_embeddings = np.array(all_chunk_embeddings)\n",
    "\n",
    "# Add embeddings to FAISS index\n",
    "index_text.add(all_chunk_embeddings)\n",
    "\n",
    "# Save FAISS index and metadata\n",
    "faiss.write_index(index_text, os.path.join(build_folder, 'financial_docs_text_index.faiss'))\n",
    "\n",
    "with open(os.path.join(build_folder, 'financial_chunks_metadata.pkl'), 'wb') as f:\n",
    "    pickle.dump(chunk_metadata, f)\n"
   ]
  },
  {
   "cell_type": "code",
   "execution_count": 19,
   "metadata": {},
   "outputs": [
    {
     "data": {
      "text/plain": [
       "{'text': 'united states securities exchange commission washington dc 20549 form 10k annual report pursuant section 13 15d securities exchange act 1934 fiscal year ended december 31 2023 transition report pursuant section 13 15d securities exchange act 1934 transition period commission file number 00140951 portillos inc exact name registrant specified charter delaware 871104304 state jurisdiction incorporation organization irs employer identification 2001 spring road suite 400 oak brook illinois 60523 address principal executive offices 630 9543773 registrant ’ s telephone number including area code securities registered pursuant section 12b act title class trading symbol name exchange registered class common stock 001 par value per share ptlo nasdaq global select market securities registered pursuant section 12g act none indicate check mark registrant wellknown seasoned issuer defined rule 405 securities act yes indicate check mark registrant required file reports pursuant section 13 section 15d act yes indicate check mark whether registrant 1 filed reports required filed section 13 15d securities exchange act 1934 preceding 12 months shorter period registrant required file reports 2 subject filing requirements past 90 days yes indicate check mark whether registrant submitted electronically every interactive data file required submitted pursuant rule 405 regulation st § 232405 chapter preceding 12 months shorter period registrant required submit files yes indicate check mark whether registrant large accelerated filer accelerated filer nonaccelerated filer smaller reporting company emerging growth company see definitions large accelerated filer accelerated filer smaller reporting company emerging growth company rule 12b2 exchange act large accelerated filer accelerated filer nonaccelerated filer smaller reporting company emerging growth company emerging growth company indicate check mark registrant elected use extended transition period complying new revised financial accounting standards provided pursuant section 13a exchange act indicate check mark whether registrant filed report attestation management ’ s assessment effectiveness internal control financial reporting section 404b sarbanesoxley act 15 usc 7262b registered public accounting firm prepared issued audit report securities registered pursuant section 12b act indicate check mark whether financial statements registrant included filing reflect correction error previously issued financial statements yes indicate check mark whether error corrections restatements required recovery analysis incentivebased compensation received registrant ’ s executive officers relevant recovery period pursuant § 24010d1b yes indicate check mark whether registrant shell company defined rule 12b2 act yes aggregate market value common stock held nonaffiliates registrant june 23 2023',\n",
       " 'embedding': tensor([-5.0833e-02, -5.5096e-02, -1.1411e-02,  4.0775e-02, -1.5344e-02,\n",
       "          2.4870e-02, -2.9573e-03, -3.2701e-02, -5.9721e-02, -7.3386e-04,\n",
       "          6.5335e-03, -3.9127e-02, -6.1128e-02, -6.8732e-02, -3.2683e-02,\n",
       "         -4.0288e-02,  5.6745e-02,  3.3109e-02, -1.6444e-02,  7.8147e-03,\n",
       "          2.0087e-02, -2.5509e-02, -8.5860e-02, -9.0104e-02,  3.1150e-03,\n",
       "         -1.0063e-02, -4.1849e-02,  4.4561e-02, -7.8496e-02, -5.4933e-02,\n",
       "         -4.1766e-02, -4.7707e-02,  2.7813e-02,  7.8036e-02,  1.0161e-01,\n",
       "         -1.6434e-02,  2.5498e-02,  4.8142e-02,  1.0512e-01, -6.1633e-02,\n",
       "         -8.3487e-02, -4.7055e-02,  7.2147e-03,  7.2073e-02,  4.4985e-03,\n",
       "         -6.4954e-02, -1.2594e-01, -6.8070e-02, -3.3644e-02,  9.8872e-03,\n",
       "         -2.2103e-02,  7.5659e-02,  2.2729e-02,  6.8070e-02, -3.1902e-02,\n",
       "         -4.9848e-02, -4.5143e-02, -2.7467e-02, -1.3910e-02, -4.3244e-02,\n",
       "         -2.2623e-02, -3.4410e-02, -2.3012e-03,  1.4367e-03, -3.3824e-02,\n",
       "          4.9579e-02, -6.1457e-02,  5.1664e-04,  3.3860e-02, -9.9621e-02,\n",
       "         -1.3442e-01, -1.7867e-04, -1.1346e-01,  6.8671e-02, -1.9157e-02,\n",
       "          2.4235e-02, -8.8347e-03,  5.1798e-02,  5.0818e-02, -1.3338e-01,\n",
       "         -4.8765e-02,  1.9179e-02, -3.7853e-02, -5.6185e-03, -3.2147e-02,\n",
       "         -8.3021e-03, -1.4932e-02,  3.8892e-02,  5.5252e-02,  1.8689e-02,\n",
       "          1.0841e-01,  2.5578e-02, -5.8243e-03, -3.4997e-02,  1.0122e-03,\n",
       "         -4.7897e-02, -4.0795e-02,  1.7206e-02,  3.0884e-02,  1.8959e-02,\n",
       "          3.5607e-02, -3.7494e-02, -1.0009e-01, -4.6560e-02, -9.4655e-02,\n",
       "         -7.7226e-02,  7.8385e-02,  4.3039e-02, -3.0855e-02,  5.1975e-03,\n",
       "         -2.6607e-02,  1.3144e-02, -6.7031e-02, -1.0143e-01, -8.8586e-03,\n",
       "         -1.7750e-02, -4.4530e-02, -1.2080e-02,  6.3580e-02,  1.6920e-02,\n",
       "         -9.0197e-03,  9.1188e-02, -8.2903e-02, -3.2441e-02, -2.9170e-02,\n",
       "         -5.5620e-02, -8.1379e-04,  2.8608e-32, -6.1125e-02,  1.6465e-02,\n",
       "         -1.1528e-02,  4.0923e-02, -3.6020e-02,  3.2684e-02,  8.0416e-02,\n",
       "         -9.1096e-04, -6.5967e-02,  4.3076e-02, -5.6138e-02,  6.1736e-02,\n",
       "         -5.2142e-02, -7.2932e-03, -5.9428e-02,  6.3882e-03,  4.6563e-02,\n",
       "          2.0712e-02,  5.3100e-02, -6.1424e-02,  3.7703e-02, -5.1550e-02,\n",
       "          2.0296e-02,  2.9601e-02, -2.3146e-02,  1.9131e-02, -9.4502e-02,\n",
       "          7.3725e-03,  1.5747e-02,  3.7777e-02,  4.0358e-02, -4.0424e-02,\n",
       "          2.1786e-02,  1.7404e-03,  7.1684e-02,  3.0609e-02,  6.3514e-02,\n",
       "         -2.8453e-02,  4.8321e-02, -7.3027e-02, -1.2803e-02,  8.6507e-03,\n",
       "          2.8859e-02,  5.3208e-02, -5.9931e-03, -5.6417e-03,  4.7896e-02,\n",
       "          6.9263e-02,  5.7856e-02, -2.7906e-03,  6.1097e-04,  1.3478e-02,\n",
       "         -9.9815e-03, -2.0111e-02, -1.1346e-02, -1.3231e-02, -5.0092e-02,\n",
       "         -3.3755e-02, -9.6212e-04,  5.7911e-02, -4.6298e-02,  9.0775e-02,\n",
       "         -1.2186e-01, -3.8940e-02, -9.3377e-02,  4.9867e-03, -1.7264e-02,\n",
       "          4.5648e-03, -1.3048e-02,  2.2722e-02,  9.6663e-03, -8.1899e-03,\n",
       "          8.9391e-02,  1.3670e-02,  7.8721e-02, -3.6114e-02,  4.5175e-02,\n",
       "          2.9302e-02,  2.6074e-02, -4.5462e-02, -2.6946e-02, -7.7228e-02,\n",
       "         -3.8496e-02,  6.5091e-02,  8.2527e-02, -3.1347e-03,  2.2120e-02,\n",
       "         -1.8038e-02, -1.9818e-02,  2.1068e-02,  1.7383e-02, -4.0603e-02,\n",
       "         -4.9827e-02,  5.6627e-02,  2.4621e-02, -3.0271e-32, -4.3423e-03,\n",
       "         -2.3726e-02, -7.6339e-02, -4.1409e-02, -4.0572e-02,  3.6491e-03,\n",
       "          2.8804e-02, -8.8092e-02,  1.0468e-01, -1.4687e-02,  2.9156e-02,\n",
       "         -4.1600e-02,  3.1730e-02,  1.3682e-02, -7.6272e-02, -6.9545e-02,\n",
       "         -1.0564e-01,  5.8779e-02,  9.3022e-03,  2.1733e-02,  7.2439e-03,\n",
       "          4.4745e-02, -1.1998e-04,  8.1831e-02, -7.6843e-03,  3.7252e-02,\n",
       "         -4.9455e-02,  6.6864e-02,  5.8028e-02,  6.3135e-02, -1.0691e-02,\n",
       "         -3.3489e-02, -4.6064e-02,  1.0037e-01, -1.0300e-01, -9.4105e-02,\n",
       "          8.8641e-02, -2.4225e-02,  4.4720e-03,  3.7055e-02,  2.4039e-02,\n",
       "         -1.8923e-02, -2.6348e-02,  5.6778e-02, -1.2165e-03, -2.2252e-02,\n",
       "          6.1590e-02,  3.6040e-02, -1.0908e-02, -3.1940e-03, -7.4401e-02,\n",
       "          5.4390e-02, -5.6145e-02,  3.2274e-02,  9.0409e-03,  9.1632e-02,\n",
       "          1.2275e-02, -4.1281e-02, -3.8127e-02, -2.5160e-02,  3.9794e-02,\n",
       "          7.4521e-02,  3.6861e-03,  3.8760e-02,  1.5015e-01, -1.0982e-01,\n",
       "         -5.5931e-02, -3.6200e-02, -2.4336e-03, -2.0046e-02,  3.4632e-03,\n",
       "         -1.2513e-01, -7.6519e-02, -1.7148e-01,  5.1277e-02,  3.7989e-02,\n",
       "          3.4101e-02, -1.6430e-02, -6.5413e-02,  9.8935e-02, -1.6766e-02,\n",
       "          8.9606e-02, -2.4068e-02,  8.0930e-02, -1.0505e-02,  3.9748e-02,\n",
       "          9.6705e-03,  2.7441e-02,  5.4923e-03,  5.5057e-02, -2.5930e-02,\n",
       "         -8.2278e-02,  5.1132e-02,  2.8177e-02, -6.0669e-02, -7.7740e-08,\n",
       "         -2.6064e-02,  7.8452e-02,  4.5630e-02, -2.4913e-03,  8.9537e-02,\n",
       "          5.5883e-02,  3.2789e-02,  3.3853e-03, -4.8041e-02,  3.6010e-03,\n",
       "          1.1036e-01, -8.8531e-03, -5.9899e-02, -7.5201e-02, -4.5069e-03,\n",
       "         -5.9302e-02, -5.2143e-02, -1.1573e-02, -4.6465e-02, -9.2035e-03,\n",
       "         -4.0494e-02, -5.2019e-02, -2.6169e-02, -2.3611e-03, -1.9108e-02,\n",
       "         -5.4363e-02, -2.2962e-02,  3.9393e-02,  4.1802e-02,  1.6270e-02,\n",
       "          2.1422e-02, -1.4141e-02,  5.9363e-02, -6.5648e-02, -3.8097e-02,\n",
       "         -1.1083e-02,  1.1997e-02,  2.7671e-02, -1.7234e-03,  9.7287e-03,\n",
       "         -1.0003e-01, -6.4303e-03, -4.2756e-02,  2.9972e-02,  1.8650e-02,\n",
       "          3.7974e-02, -7.2244e-02, -5.2066e-02,  9.2023e-02, -1.0919e-01,\n",
       "         -1.4945e-02, -7.9810e-02, -1.7982e-02,  6.4845e-03, -8.9808e-03,\n",
       "          4.9087e-02, -6.7602e-02,  4.5487e-02,  7.0669e-03, -4.3343e-02,\n",
       "          3.4403e-02, -1.9846e-02, -4.0571e-02, -5.3051e-03], device='mps:0')}"
      ]
     },
     "execution_count": 19,
     "metadata": {},
     "output_type": "execute_result"
    }
   ],
   "source": [
    "embedded_documents[0][\"chunk_embeddings\"][0]"
   ]
  },
  {
   "cell_type": "code",
   "execution_count": 31,
   "metadata": {},
   "outputs": [],
   "source": [
    "def query_retrieval(query, index, metadata, k=5):\n",
    "    # Preprocess and embed the query\n",
    "    preprocessed_query = preprocess_text(query)\n",
    "    query_embedding = text_embedder.encode(preprocessed_query, convert_to_tensor=True)\n",
    "\n",
    "    # Search the index\n",
    "    distances, indices = index.search(np.array([query_embedding.cpu().numpy()]), k)\n",
    "\n",
    "    # Check if any indices are returned\n",
    "    if indices.shape[1] == 0:\n",
    "        return []  # Return an empty list if no indices found\n",
    "\n",
    "    # Retrieve documents based on indices\n",
    "    results = []\n",
    "    for idx in indices[0]:\n",
    "        if idx >= 0 and idx < len(metadata):  # Ensure valid index\n",
    "            results.append(metadata[idx])\n",
    "    return results\n",
    "\n",
    "\n",
    "\n",
    "\n"
   ]
  },
  {
   "cell_type": "code",
   "execution_count": 56,
   "metadata": {},
   "outputs": [],
   "source": [
    "def generate_answer(query, context):\n",
    "    prompt = f\"\"\"Use the following pieces of context to answer the question at the end. \n",
    "    If you don't know the answer, just say that you don't know; don't try to make up an answer. \n",
    "    Use three sentences maximum and keep the answer concise.\n",
    "    Context: {context}\n",
    "    Question: {query}\n",
    "    Helpful Answer:\"\"\"\n",
    "\n",
    "    # Encode the prompt and generate answer using the LLM\n",
    "    input_ids = tokenizer(prompt, return_tensors='pt').input_ids\n",
    "\n",
    "    # Generate answer with max_new_tokens\n",
    "    response = llm.generate(\n",
    "        input_ids=input_ids,\n",
    "        max_new_tokens=100,  # Adjust as needed\n",
    "        pad_token_id=tokenizer.eos_token_id,\n",
    "    )\n",
    "\n",
    "    # Decode the response and return\n",
    "    answer = tokenizer.decode(response[0], skip_special_tokens=True)\n",
    "    return answer\n"
   ]
  },
  {
   "cell_type": "code",
   "execution_count": 57,
   "metadata": {},
   "outputs": [
    {
     "data": {
      "text/plain": [
       "[{'filename': \"Portillo's Inc., Q4 2023 Earnings Call.pdf\",\n",
       "  'text': 'portillos inc nasdaqgsptlo fq4 2023 earnings call transcripts tuesday february 27 2024 300 pm gmt sp global market intelligence estimates fq4 2023 fq1 2024 fy 2023 fy 2024 consensus actual surprise consensus consensus actual surprise consensus eps 005 022 34000 005 028 071 15357 039 normalized revenue 18422 18786 198 17849 67657 67990 049 76178 mm currency usd consensus jan292024 1135 gmt eps normalized consensus actual surprise fq1 2023 001 006 50000 fq2 2023 014 013 714 fq3 2023 008 009 1250 fq4 2023 005 022 34000 1 copyright © 2024 sp global market intelligence division sp global inc rights reserved spglobalcommarketintelligencecontents table contents call participants 3 presentation 4 question answer 9 2 copyright © 2024 sp global market intelligence division sp global inc rights reserved spglobalcommarketintelligenceportillos inc fq4 2023 earnings call feb 27 2024 call participants executives barbara margaret noverini director investor relations michael osanloo president ceo director michelle greig hook cfo treasurer analysts andrew marc barish jefferies llc research division brian hugh mullan piper sandler co research division sharon zackfia william blair company llc brian james harbour research division morgan stanley research division christopher thomas ocull stifel nicolaus company incorporated research division david e tarantino robert w baird co incorporated research division dennis geiger ubs investment bank research division gregory ryan francfort guggenheim securities llc research division sara harkavy senatore bofa securities research division copyright © 2024 sp global market intelligence division sp global inc rights reserved spglobalcommarketintelligence 3portillos inc fq4 2023 earnings call feb 27 2024 presentation operator greetings welcome portillos fourth quarter yearend 2023 earnings conference call operator instructions reminder conference recorded pleasure introduce host barbara noverini portillos director investor relations thank may begin barbara margaret noverini director investor relations thank operator good morning everyone welcome fourth quarter full year 2023 earnings call 10k earnings press release supplemental presentation posted investorsportilloscom call today michael osanloo president chief executive officer michelle hook chief financial officer commentary made future results business conditions forwardlooking statements based managements current expectations guarantees future performance update forwardlooking statements unless required law 10k identifies'},\n",
       " {'filename': 'PTLO 2023 Q4 10K.pdf',\n",
       "  'text': '##based compensation 64 note 14 income taxes 68 note 15 earnings loss per share 70 note 16 contingencies 70 note 17 related party transactions 71 portillos inc form 10k 36table contents report independent registered public accounting firm stockholders board directors portillo ’ s inc opinion financial statements audited accompanying consolidated balance sheets portillo ’ s inc subsidiaries “ company ” december 31 2023 december 25 2022 related consolidated statements operations stockholders ’ members ’ equity cash flows three years period ended december 31 2023 related notes schedule listed index item 15 collectively referred “ financial statements ” opinion financial statements present fairly material respects financial position company december 31 2023 december 25 2022 results operations cash flows three years period ended december 31 2023 conformity accounting principles generally accepted united states america also audited accordance standards public company accounting oversight board united states pcaob company ’ s internal control financial reporting december 31 2023 based criteria established internal control — integrated framework 2013i ssued committee sponsoring organizations treadway commission report dated february 27 2024 expressed unqualified opinion company ’ s internal control financial reporting basis opinion financial statements responsibility company ’ s management responsibility express opinion company ’ s financial statements based audits public accounting firm registered pcaob required independent respect company accordance us federal securities laws applicable rules regulations securities exchange commission pcaob conducted audits accordance standards pcaob standards require plan perform audit obtain reasonable assurance whether financial statements free material misstatement whether due error fraud audits included performing procedures assess risks material misstatement financial statements whether due error fraud performing procedures respond risks procedures included examining test basis evidence regarding amounts disclosures financial statements audits also included evaluating accounting principles used significant estimates made management well evaluating overall presentation financial statements believe audits provide reasonable basis opinion critical audit matter critical audit matter communicated matter arising currentperiod audit financial statements communicated required communicated audit committee 1 relates accounts disclosures material financial statements 2 involved especially challenging subjective complex judgments communication critical audit matters alter way opinion financial statements taken whole communicating critical audit matter providing separate opinion critical audit matter accounts disclosures relates income taxes – tax receivable agreement — refer note 2 note 14 financial statements critical audit matter description october 20 2021 company completed initial public offering series transaction steps resulted company owning majority phd group holdings llc company ccorporation holding company owning partnership interest phd group holdings llc commonly referred upc structure connection initial public offering company entered tax receivable agreement tra recorded liability tra tra company required pay certain preipo owners 85 amount cash savings us federal state local tax company actually realizes payments related initial subsequent exchanges treated additional consideration paid'},\n",
       " {'filename': 'PTLO 2023 Q4 10K.pdf',\n",
       "  'text': 'portillo ’ s inc disposition substantially portillo ’ s inc ’ s direct indirect assets change majority board directors without approval least twothirds majority thenexisting board members upon breach material obligations tax receivable agreement time elect early termination tax receivable agreement payment obligations tax receivable agreement accelerate accelerated payments calculated reference present value discount rate equal lesser 65 per annum ii one year libor successor rate plus 100 basis points future payments holders llc units recipients would entitled receive tax receivable agreement accelerated payments future payments tax receivable agreement utilize certain valuation assumptions including assumption would sufficient taxable income fully utilize potential future tax benefits subject tax receivable agreement case certain changes control payments tax receivable agreement accelerated may significantly exceed actual benefits realize expect payments may make tax receivable agreement event change control substantial result accelerated payment obligations andor assumptions adopted tax receivable agreement case change control may impair ability consummate change control transactions negatively impact value received owners class common stock change control transaction require us incur substantial costs consummate transaction reimbursed payments made tra parties tax receivable agreement event tax benefits disallowed payments tax receivable agreement based tax reporting positions us internal revenue service irs state taxing authority may successfully challenge part tax benefits claim connection tax positions outcome challenge would reasonably expected materially affect recipient ’ s payments tax receivable agreement permitted settle fail contest challenge without tra party ’ s consent unreasonably withheld delayed tra parties ’ interests may differ conflict interests interests may exercise consent rights manner adverse interests interests payments made tax receivable agreement could significantly exceed tax savings realize tax attributes subject tax receivable agreement reimbursed cash payments previously made tra parties tax receivable agreement tax benefits initially claimed us payment made tra party ultimately disallowed excess cash payments made us tra party netted future cash payments might otherwise required make tra party tax receivable agreement challenge finally settled determined risks related intellectual property information technology data security failure protect maintain intellectual property including trademarks could material adverse effect business intellectual property includes trademarks service marks registered united states patent trademark office including portillo ’ s® trade dress restaurants websites domain names including website wwwportilloscom unregistered intellectual property collectively ip success depends continued ability use ip licensed thirdparty intellectual property require continued use existing trademarks service marks order increase brand awareness develop branded products efforts protect ip inadequate thirdparty misappropriates infringes dilutes otherwise violates ip value ip may harmed example failure enforce trademarks'},\n",
       " {'filename': 'PTLO 2023 Q4 10K.pdf',\n",
       "  'text': 'filed september 27 2021 first amendment second lien credit agreement dated october 25 2014 among portillos holdings llc borrower phd intermediate llc ubs ag stamford branch administrative agent 106 collateral agent lenders time time party thereto incorporated reference companys registration statement form s1 filed september 27 2021 second amendment second lien credit agreement dated december 6 2019 among portillo ’ s holdings llc borrower phd intermediate llc ubs ag stamford branch administrative agent 107 collateral agent lenders time time party thereto incorporated reference company ’ s registration statement form s1 filed september 27 2021 portillo ’ s inc 2021 equity incentive plan incorporated reference companys form 10q filed 108 † november 18 2021 registration rights agreement dated october 21 2021 among portillos inc 109 parties hereto incorporated reference companys form 10k filed march 10 2022 form restricted stock unit award agreement portillo ’ s inc 2021 equity incentive plan 1010 † incorporated reference companys form 10q filed november 18 2021 form option award agreement portillo ’ s inc 2021 equity incentive plan incorporated 1011 † reference companys form 10q filed november 18 2021 form 2021 executive officer director indemnification agreement portillo ’ s inc incorporated 1012 reference company ’ s registration statement form s1 filed october 6 2021 employment agreement phd group holdings llc michael osanloo entered 1013 august 3 2018 incorporated reference companys registration statement form s1 filed † september 27 2021 portillos inc form 10k 76table contents employment agreement phd group holdings llc sherri abruscato entered 1014 august 1 2014 incorporated reference companys registration statement form s1 filed † september 27 2021 letter agreement phd group holdings llc michelle hook entered november 14 1015 2020 incorporated reference companys registration statement form s1 filed september † 27 2021 letter agreement phd group holdings llc jill waite entered may 22 2019 1016 incorporated reference companys registration statement form s1 filed september 27 † 2021 tax receivable agreement among portillo ’ s inc parties named therein incorporated reference 1017 companys form 10q filed november 18 2021 second amended restated llc agreement phd group holdings llc incorporated reference 1018 companys form 10q filed november 18 2021 portillos inc employee stock purchase plan incorporated reference companys form 10q filed 1019 † august 4 2022 form stock unit purchase agreement among portillo ’ s inc parties named therein 1020 incorporated reference companys registration statement s1 filed august 8 2022 form restricted stock award agreement portillo ’ s inc 2021 equity incentive plan incorporated 1021 † reference companys form 10 k filed march 2 2023 credit agreement dated'},\n",
       " {'filename': 'PTLO 2023 Q4 10K.pdf',\n",
       "  'text': 'iii standard poor ’ s 500 restaurants index iv standard poors 600 restaurant index assuming investment 100 october 21 2021 portillos inc stock september 30 2021 indices including reinvestment dividends beginning 2024 use sp 500 sp 600 restaurant indices benchmark broad market smallcap restaurant company performance indices better reflect external market business 10212021 12262021 412022 712022 1012022 12252022 412023 712023 1012023 12312023 portillos inc 10000 13175 8210 5753 6766 5907 7344 7742 5289 5474 sp 500 10000 11103 10592 8887 8453 9092 9774 10628 1028 11482 sp 500 restaurants 10000 10831 9375 8732 8758 9935 10688 11308 10176 11402 sp 600 restaurants 10000 8979 8862 5931 6538 7131 8251 8827 7067 8448 100 invested 102121 portillos inc stock 93021 indices including reinvestment dividends indices calculated monthend basis source data research data group inc portillos inc form 10k 21recent sale unregistered securities use proceeds registered securities none issuer purchases equity securities none item 6 reserved required portillos inc form 10k 22table contents item 7 managements discussion analysis financial condition results operations section parts annual report form 10k “ form 10k ” contain forwardlooking statements within meaning private securities litigation reform act 1995 pslra subject known unknown risks uncertainties important factors may cause actual results materially different statements made herein statements statements historical fact forwardlooking statements forwardlooking statements discuss current expectations projections relating financial position results operations plans objectives future performance business identify forward looking statements fact relate strictly historical current facts statements may include words aim anticipate believe estimate expect forecast future intend outlook potential project projection plan seek may could would likely negatives thereof similar expressions forwardlooking statements expressly qualified entirety cautionary statements evaluate forward looking statements made form 10k context risks uncertainties disclosed part item 1a risk factors item 7 managements discussion analysis financial condition results operations forwardlooking statements included form 10k made date hereof undertake obligation publicly update forwardlooking statement result new information future events otherwise except otherwise required law update one forwardlooking statements inference made make additional updates respect forwardlooking statements comparison results operations financial condition fiscal years 2022 2021 see “ management ’ s discussion analysis financial condition results operations ” form 10'}]"
      ]
     },
     "execution_count": 57,
     "metadata": {},
     "output_type": "execute_result"
    }
   ],
   "source": [
    "# Example usage\n",
    "query = \"What are the earnings in Q3 of 2023 for Portillo's\"  # Replace this with an actual query\n",
    "retrieved_docs = query_retrieval(query, index_text, chunk_metadata)\n",
    "retrieved_docs\n"
   ]
  },
  {
   "cell_type": "code",
   "execution_count": null,
   "metadata": {},
   "outputs": [],
   "source": []
  },
  {
   "cell_type": "code",
   "execution_count": null,
   "metadata": {},
   "outputs": [],
   "source": []
  }
 ],
 "metadata": {
  "kernelspec": {
   "display_name": "capstone_venv",
   "language": "python",
   "name": "python3"
  },
  "language_info": {
   "codemirror_mode": {
    "name": "ipython",
    "version": 3
   },
   "file_extension": ".py",
   "mimetype": "text/x-python",
   "name": "python",
   "nbconvert_exporter": "python",
   "pygments_lexer": "ipython3",
   "version": "3.8.0"
  },
  "orig_nbformat": 4
 },
 "nbformat": 4,
 "nbformat_minor": 2
}
