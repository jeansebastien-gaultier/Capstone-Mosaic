{
 "cells": [
  {
   "cell_type": "code",
   "execution_count": 1,
   "metadata": {},
   "outputs": [],
   "source": [
    "import pickle\n",
    "\n",
    "# Load the pickle file\n",
    "with open('Vectordatabase/financial_chunks_metadata_sentences.pkl', 'rb') as file:\n",
    "    text_chunks = pickle.load(file)"
   ]
  },
  {
   "cell_type": "code",
   "execution_count": 2,
   "metadata": {},
   "outputs": [
    {
     "name": "stderr",
     "output_type": "stream",
     "text": [
      "c:\\Users\\David\\AppData\\Local\\Programs\\Python\\Python311\\Lib\\site-packages\\sentence_transformers\\cross_encoder\\CrossEncoder.py:13: TqdmWarning: IProgress not found. Please update jupyter and ipywidgets. See https://ipywidgets.readthedocs.io/en/stable/user_install.html\n",
      "  from tqdm.autonotebook import tqdm, trange\n"
     ]
    }
   ],
   "source": [
    "import numpy as np\n",
    "import faiss\n",
    "from sentence_transformers import SentenceTransformer\n",
    "\n",
    "# Initialize SentenceTransformer model\n",
    "text_embedder = SentenceTransformer('all-MiniLM-L6-v2')\n",
    "\n",
    "# Load the existing FAISS index\n",
    "index = faiss.read_index('Vectordatabase/financial_docs_text_index_sentences.faiss')\n",
    "\n",
    "def retrieve_similar(query, k=1):\n",
    "    # Get query embedding\n",
    "    query_embedding = text_embedder.encode([query])\n",
    "    # Search in FAISS index\n",
    "    distances, indices = index.search(query_embedding.astype(np.float32), k)\n",
    "    return indices, distances"
   ]
  },
  {
   "cell_type": "code",
   "execution_count": 3,
   "metadata": {},
   "outputs": [],
   "source": [
    "from langchain_community.llms import Ollama\n",
    "\n",
    "llm = Ollama(model=\"llama3.2:1b\")\n",
    "\n",
    "def generate_response(query):\n",
    "    indices, distances = retrieve_similar(query)\n",
    "    context = \"\\n\".join([text_chunks[idx]['raw_text'] for _, idx in enumerate(indices[0])])\n",
    "    # Prepare the input for the T5 model\n",
    "    input_text = f\"question: {query} context: {context}. Let me know if the context was useful.\"\n",
    "\n",
    "\n",
    "\n",
    "    response = llm.invoke(input_text)\n",
    "\n",
    "    return context, response"
   ]
  },
  {
   "cell_type": "code",
   "execution_count": 3,
   "metadata": {},
   "outputs": [
    {
     "name": "stdout",
     "output_type": "stream",
     "text": [
      "                                             Question  \\\n",
      "0   What is Portillo’s business model and what typ...   \n",
      "1   How many restaurants did Portillo’s operate as...   \n",
      "2   What are Portillo’s growth plans for restauran...   \n",
      "3   What impact did inflation have on Portillo’s f...   \n",
      "4   How does Portillo’s plan to maintain profitabi...   \n",
      "..                                                ...   \n",
      "57  What initiatives has Portillo’s implemented to...   \n",
      "58  How does Portillo’s address potential food saf...   \n",
      "59  How does Portillo’s manage potential real esta...   \n",
      "60  How did Portillo’s manage cash flow and profit...   \n",
      "61  What are Portillo’s long-term sustainability g...   \n",
      "\n",
      "                                               Answer  \n",
      "0   Portillo’s operates as a fast-casual restauran...  \n",
      "1   As of December 31, 2023, Portillo's operated 8...  \n",
      "2   Portillo’s aims to grow its restaurant base by...  \n",
      "3   Portillo's faced 5.5% commodity price inflatio...  \n",
      "4   To manage increasing food and commodity prices...  \n",
      "..                                                ...  \n",
      "57  Portillo’s launched a DEI initiative guided by...  \n",
      "58  Portillo’s has implemented a comprehensive foo...  \n",
      "59  Portillo’s manages real estate challenges by r...  \n",
      "60  Portillo’s achieved strong cash flow and profi...  \n",
      "61  Portillo’s is committed to sustainability, foc...  \n",
      "\n",
      "[62 rows x 2 columns]\n"
     ]
    }
   ],
   "source": [
    "import pandas as pd\n",
    "\n",
    "# Function to convert text file to DataFrame\n",
    "def text_to_dataframe(file_path):\n",
    "    questions = []\n",
    "    answers = []\n",
    "    \n",
    "    with open(file_path, 'r', encoding='utf-8') as file:\n",
    "        content = file.read().strip()\n",
    "        entries = content.split('\\n\\n')  # Split on double newline for each Q&A\n",
    "        \n",
    "        for entry in entries:\n",
    "            if entry.strip():  # Ensure the entry is not empty\n",
    "                lines = entry.split('\\n')\n",
    "                if len(lines) >= 2:  # Ensure there are at least 2 lines (Q and A)\n",
    "                    question = lines[0].replace('Q: ', '').strip()\n",
    "                    answer = lines[1].replace('A: ', '').strip()\n",
    "                    questions.append(question)\n",
    "                    answers.append(answer)\n",
    "\n",
    "    # Create a DataFrame\n",
    "    df = pd.DataFrame({'Question': questions, 'Answer': answers})\n",
    "    return df\n",
    "\n",
    "# Example usage\n",
    "file_path = \"../Akshay_Work/Answers_10k.txt\"\n",
    "df = text_to_dataframe(file_path)"
   ]
  },
  {
   "cell_type": "code",
   "execution_count": 7,
   "metadata": {},
   "outputs": [],
   "source": [
    "df['RAG_context'], df['simple_RAG'] = zip(*df['Question'].apply(generate_response))"
   ]
  },
  {
   "cell_type": "code",
   "execution_count": 8,
   "metadata": {},
   "outputs": [
    {
     "data": {
      "text/html": [
       "<div>\n",
       "<style scoped>\n",
       "    .dataframe tbody tr th:only-of-type {\n",
       "        vertical-align: middle;\n",
       "    }\n",
       "\n",
       "    .dataframe tbody tr th {\n",
       "        vertical-align: top;\n",
       "    }\n",
       "\n",
       "    .dataframe thead th {\n",
       "        text-align: right;\n",
       "    }\n",
       "</style>\n",
       "<table border=\"1\" class=\"dataframe\">\n",
       "  <thead>\n",
       "    <tr style=\"text-align: right;\">\n",
       "      <th></th>\n",
       "      <th>Question</th>\n",
       "      <th>Answer</th>\n",
       "      <th>RAG_context</th>\n",
       "      <th>simple_RAG</th>\n",
       "    </tr>\n",
       "  </thead>\n",
       "  <tbody>\n",
       "    <tr>\n",
       "      <th>0</th>\n",
       "      <td>What is Portillo’s business model and what typ...</td>\n",
       "      <td>Portillo’s operates as a fast-casual restauran...</td>\n",
       "      <td>Overview of Portillo's\\nPortillo’s serves icon...</td>\n",
       "      <td>Yes, the provided context is extremely helpful...</td>\n",
       "    </tr>\n",
       "    <tr>\n",
       "      <th>1</th>\n",
       "      <td>How many restaurants did Portillo’s operate as...</td>\n",
       "      <td>As of December 31, 2023, Portillo's operated 8...</td>\n",
       "      <td>The 53rd week in fiscal 2023 included Christma...</td>\n",
       "      <td>Yes, the context provided was useful. It outli...</td>\n",
       "    </tr>\n",
       "    <tr>\n",
       "      <th>2</th>\n",
       "      <td>What are Portillo’s growth plans for restauran...</td>\n",
       "      <td>Portillo’s aims to grow its restaurant base by...</td>\n",
       "      <td>In fiscal 2023, we opened 12 new restaurants. ...</td>\n",
       "      <td>The provided context seems useful for understa...</td>\n",
       "    </tr>\n",
       "    <tr>\n",
       "      <th>3</th>\n",
       "      <td>What impact did inflation have on Portillo’s f...</td>\n",
       "      <td>Portillo's faced 5.5% commodity price inflatio...</td>\n",
       "      <td>Commodity inflation was\\n5.5% for the year end...</td>\n",
       "      <td>The provided context is indeed useful in under...</td>\n",
       "    </tr>\n",
       "    <tr>\n",
       "      <th>4</th>\n",
       "      <td>How does Portillo’s plan to maintain profitabi...</td>\n",
       "      <td>To manage increasing food and commodity prices...</td>\n",
       "      <td>Portillo's Inc. Form 10-K | 34Table of Content...</td>\n",
       "      <td>Yes, the context provided is very useful. It p...</td>\n",
       "    </tr>\n",
       "    <tr>\n",
       "      <th>...</th>\n",
       "      <td>...</td>\n",
       "      <td>...</td>\n",
       "      <td>...</td>\n",
       "      <td>...</td>\n",
       "    </tr>\n",
       "    <tr>\n",
       "      <th>57</th>\n",
       "      <td>What initiatives has Portillo’s implemented to...</td>\n",
       "      <td>Portillo’s launched a DEI initiative guided by...</td>\n",
       "      <td>At Portillo’s, we embrace Diversity, Equity, I...</td>\n",
       "      <td>Yes, the context you provided was very helpful...</td>\n",
       "    </tr>\n",
       "    <tr>\n",
       "      <th>58</th>\n",
       "      <td>How does Portillo’s address potential food saf...</td>\n",
       "      <td>Portillo’s has implemented a comprehensive foo...</td>\n",
       "      <td>Portillo's Inc. Form 10-K | 34Table of Content...</td>\n",
       "      <td>Yes, the context provided is useful. It seems ...</td>\n",
       "    </tr>\n",
       "    <tr>\n",
       "      <th>59</th>\n",
       "      <td>How does Portillo’s manage potential real esta...</td>\n",
       "      <td>Portillo’s manages real estate challenges by r...</td>\n",
       "      <td>Portillo's Inc. Form 10-K | 53PORTILLO'S INC.\\...</td>\n",
       "      <td>The context provided is a Form 10-K report fro...</td>\n",
       "    </tr>\n",
       "    <tr>\n",
       "      <th>60</th>\n",
       "      <td>How did Portillo’s manage cash flow and profit...</td>\n",
       "      <td>Portillo’s achieved strong cash flow and profi...</td>\n",
       "      <td>Portillo's Inc. Form 10-K | 53PORTILLO'S INC.\\...</td>\n",
       "      <td>The context provided is indeed helpful in unde...</td>\n",
       "    </tr>\n",
       "    <tr>\n",
       "      <th>61</th>\n",
       "      <td>What are Portillo’s long-term sustainability g...</td>\n",
       "      <td>Portillo’s is committed to sustainability, foc...</td>\n",
       "      <td>At Portillo’s, we embrace Diversity, Equity, I...</td>\n",
       "      <td>Yes, the context you provided was very useful....</td>\n",
       "    </tr>\n",
       "  </tbody>\n",
       "</table>\n",
       "<p>62 rows × 4 columns</p>\n",
       "</div>"
      ],
      "text/plain": [
       "                                             Question  \\\n",
       "0   What is Portillo’s business model and what typ...   \n",
       "1   How many restaurants did Portillo’s operate as...   \n",
       "2   What are Portillo’s growth plans for restauran...   \n",
       "3   What impact did inflation have on Portillo’s f...   \n",
       "4   How does Portillo’s plan to maintain profitabi...   \n",
       "..                                                ...   \n",
       "57  What initiatives has Portillo’s implemented to...   \n",
       "58  How does Portillo’s address potential food saf...   \n",
       "59  How does Portillo’s manage potential real esta...   \n",
       "60  How did Portillo’s manage cash flow and profit...   \n",
       "61  What are Portillo’s long-term sustainability g...   \n",
       "\n",
       "                                               Answer  \\\n",
       "0   Portillo’s operates as a fast-casual restauran...   \n",
       "1   As of December 31, 2023, Portillo's operated 8...   \n",
       "2   Portillo’s aims to grow its restaurant base by...   \n",
       "3   Portillo's faced 5.5% commodity price inflatio...   \n",
       "4   To manage increasing food and commodity prices...   \n",
       "..                                                ...   \n",
       "57  Portillo’s launched a DEI initiative guided by...   \n",
       "58  Portillo’s has implemented a comprehensive foo...   \n",
       "59  Portillo’s manages real estate challenges by r...   \n",
       "60  Portillo’s achieved strong cash flow and profi...   \n",
       "61  Portillo’s is committed to sustainability, foc...   \n",
       "\n",
       "                                          RAG_context  \\\n",
       "0   Overview of Portillo's\\nPortillo’s serves icon...   \n",
       "1   The 53rd week in fiscal 2023 included Christma...   \n",
       "2   In fiscal 2023, we opened 12 new restaurants. ...   \n",
       "3   Commodity inflation was\\n5.5% for the year end...   \n",
       "4   Portillo's Inc. Form 10-K | 34Table of Content...   \n",
       "..                                                ...   \n",
       "57  At Portillo’s, we embrace Diversity, Equity, I...   \n",
       "58  Portillo's Inc. Form 10-K | 34Table of Content...   \n",
       "59  Portillo's Inc. Form 10-K | 53PORTILLO'S INC.\\...   \n",
       "60  Portillo's Inc. Form 10-K | 53PORTILLO'S INC.\\...   \n",
       "61  At Portillo’s, we embrace Diversity, Equity, I...   \n",
       "\n",
       "                                           simple_RAG  \n",
       "0   Yes, the provided context is extremely helpful...  \n",
       "1   Yes, the context provided was useful. It outli...  \n",
       "2   The provided context seems useful for understa...  \n",
       "3   The provided context is indeed useful in under...  \n",
       "4   Yes, the context provided is very useful. It p...  \n",
       "..                                                ...  \n",
       "57  Yes, the context you provided was very helpful...  \n",
       "58  Yes, the context provided is useful. It seems ...  \n",
       "59  The context provided is a Form 10-K report fro...  \n",
       "60  The context provided is indeed helpful in unde...  \n",
       "61  Yes, the context you provided was very useful....  \n",
       "\n",
       "[62 rows x 4 columns]"
      ]
     },
     "execution_count": 8,
     "metadata": {},
     "output_type": "execute_result"
    }
   ],
   "source": [
    "df"
   ]
  },
  {
   "cell_type": "code",
   "execution_count": 9,
   "metadata": {},
   "outputs": [],
   "source": [
    "df.rename(columns={'simple_RAG': 'RAG_helpful_context'}, inplace=True)"
   ]
  },
  {
   "cell_type": "code",
   "execution_count": 10,
   "metadata": {},
   "outputs": [],
   "source": [
    "df.to_csv(\"LLM_test.csv\")"
   ]
  },
  {
   "cell_type": "code",
   "execution_count": 5,
   "metadata": {},
   "outputs": [],
   "source": [
    "def generate_response_with_RAG(query, context):\n",
    "\n",
    "    input_text = f\"question: {query} context: {context}. Be concise.\"\n",
    "\n",
    "\n",
    "\n",
    "    response = llm.invoke(input_text)\n",
    "\n",
    "    return response"
   ]
  },
  {
   "cell_type": "code",
   "execution_count": 9,
   "metadata": {},
   "outputs": [],
   "source": [
    "import pandas as pd\n",
    "df = pd.read_csv(\"LLM_test.csv\")\n",
    "df['RAG_simple'] = df.apply(lambda row: generate_response_with_RAG(row['Question'], row['RAG_context']), axis=1)"
   ]
  },
  {
   "cell_type": "code",
   "execution_count": 10,
   "metadata": {},
   "outputs": [],
   "source": [
    "df.to_csv(\"LLM_test2.csv\")"
   ]
  },
  {
   "cell_type": "code",
   "execution_count": null,
   "metadata": {},
   "outputs": [
    {
     "data": {
      "text/html": [
       "<div>\n",
       "<style scoped>\n",
       "    .dataframe tbody tr th:only-of-type {\n",
       "        vertical-align: middle;\n",
       "    }\n",
       "\n",
       "    .dataframe tbody tr th {\n",
       "        vertical-align: top;\n",
       "    }\n",
       "\n",
       "    .dataframe thead th {\n",
       "        text-align: right;\n",
       "    }\n",
       "</style>\n",
       "<table border=\"1\" class=\"dataframe\">\n",
       "  <thead>\n",
       "    <tr style=\"text-align: right;\">\n",
       "      <th></th>\n",
       "      <th>Unnamed: 0</th>\n",
       "      <th>Question</th>\n",
       "      <th>Answer</th>\n",
       "      <th>RAG_context</th>\n",
       "      <th>RAG_helpful_context_response</th>\n",
       "      <th>RAG_simple</th>\n",
       "    </tr>\n",
       "  </thead>\n",
       "  <tbody>\n",
       "    <tr>\n",
       "      <th>0</th>\n",
       "      <td>0</td>\n",
       "      <td>What is Portillo’s business model and what typ...</td>\n",
       "      <td>Portillo’s operates as a fast-casual restauran...</td>\n",
       "      <td>Overview of Portillo's\\nPortillo’s serves icon...</td>\n",
       "      <td>Yes, the provided context is extremely helpful...</td>\n",
       "      <td>Portillo's business model is centered around s...</td>\n",
       "    </tr>\n",
       "    <tr>\n",
       "      <th>1</th>\n",
       "      <td>1</td>\n",
       "      <td>How many restaurants did Portillo’s operate as...</td>\n",
       "      <td>As of December 31, 2023, Portillo's operated 8...</td>\n",
       "      <td>The 53rd week in fiscal 2023 included Christma...</td>\n",
       "      <td>Yes, the context provided was useful. It outli...</td>\n",
       "      <td>As of the end of Fiscal Year 2023 (December), ...</td>\n",
       "    </tr>\n",
       "    <tr>\n",
       "      <th>2</th>\n",
       "      <td>2</td>\n",
       "      <td>What are Portillo’s growth plans for restauran...</td>\n",
       "      <td>Portillo’s aims to grow its restaurant base by...</td>\n",
       "      <td>In fiscal 2023, we opened 12 new restaurants. ...</td>\n",
       "      <td>The provided context seems useful for understa...</td>\n",
       "      <td>Portillo's growth plans for restaurant expansi...</td>\n",
       "    </tr>\n",
       "    <tr>\n",
       "      <th>3</th>\n",
       "      <td>3</td>\n",
       "      <td>What impact did inflation have on Portillo’s f...</td>\n",
       "      <td>Portillo's faced 5.5% commodity price inflatio...</td>\n",
       "      <td>Commodity inflation was\\n5.5% for the year end...</td>\n",
       "      <td>The provided context is indeed useful in under...</td>\n",
       "      <td>Inflation had a positive impact on Portillo's ...</td>\n",
       "    </tr>\n",
       "    <tr>\n",
       "      <th>4</th>\n",
       "      <td>4</td>\n",
       "      <td>How does Portillo’s plan to maintain profitabi...</td>\n",
       "      <td>To manage increasing food and commodity prices...</td>\n",
       "      <td>Portillo's Inc. Form 10-K | 34Table of Content...</td>\n",
       "      <td>Yes, the context provided is very useful. It p...</td>\n",
       "      <td>Portillo's Inc. is exposed to commodity price ...</td>\n",
       "    </tr>\n",
       "  </tbody>\n",
       "</table>\n",
       "</div>"
      ],
      "text/plain": [
       "   Unnamed: 0                                           Question  \\\n",
       "0           0  What is Portillo’s business model and what typ...   \n",
       "1           1  How many restaurants did Portillo’s operate as...   \n",
       "2           2  What are Portillo’s growth plans for restauran...   \n",
       "3           3  What impact did inflation have on Portillo’s f...   \n",
       "4           4  How does Portillo’s plan to maintain profitabi...   \n",
       "\n",
       "                                              Answer  \\\n",
       "0  Portillo’s operates as a fast-casual restauran...   \n",
       "1  As of December 31, 2023, Portillo's operated 8...   \n",
       "2  Portillo’s aims to grow its restaurant base by...   \n",
       "3  Portillo's faced 5.5% commodity price inflatio...   \n",
       "4  To manage increasing food and commodity prices...   \n",
       "\n",
       "                                         RAG_context  \\\n",
       "0  Overview of Portillo's\\nPortillo’s serves icon...   \n",
       "1  The 53rd week in fiscal 2023 included Christma...   \n",
       "2  In fiscal 2023, we opened 12 new restaurants. ...   \n",
       "3  Commodity inflation was\\n5.5% for the year end...   \n",
       "4  Portillo's Inc. Form 10-K | 34Table of Content...   \n",
       "\n",
       "                        RAG_helpful_context_response  \\\n",
       "0  Yes, the provided context is extremely helpful...   \n",
       "1  Yes, the context provided was useful. It outli...   \n",
       "2  The provided context seems useful for understa...   \n",
       "3  The provided context is indeed useful in under...   \n",
       "4  Yes, the context provided is very useful. It p...   \n",
       "\n",
       "                                          RAG_simple  \n",
       "0  Portillo's business model is centered around s...  \n",
       "1  As of the end of Fiscal Year 2023 (December), ...  \n",
       "2  Portillo's growth plans for restaurant expansi...  \n",
       "3  Inflation had a positive impact on Portillo's ...  \n",
       "4  Portillo's Inc. is exposed to commodity price ...  "
      ]
     },
     "execution_count": 11,
     "metadata": {},
     "output_type": "execute_result"
    }
   ],
   "source": [
    "df.head()\n"
   ]
  },
  {
   "cell_type": "code",
   "execution_count": 17,
   "metadata": {},
   "outputs": [],
   "source": [
    "with open(\"LLM_test_output.txt\", \"w\", encoding=\"utf-8\") as file:\n",
    "    for index, row in df.iterrows():\n",
    "        file.write(f\"Question: {row['Question']}\\n\")\n",
    "        file.write(f\"Answer: {row['Answer']}\\n\")\n",
    "        rag_helpful = row['RAG_helpful_context_response'].replace('\\n', ' ')\n",
    "        file.write(f\"RAG Helpful: {rag_simple}\\n\")\n",
    "        rag_simple = row['RAG_simple'].replace('\\n', ' ')\n",
    "        file.write(f\"RAG Simple: {rag_simple}\\n\\n\")"
   ]
  },
  {
   "cell_type": "code",
   "execution_count": null,
   "metadata": {},
   "outputs": [],
   "source": [
    "import torch\n",
    "from transformers import AutoModel, AutoTokenizer\n",
    "from sklearn.metrics.pairwise import cosine_similarity\n",
    "\n",
    "# Load model and tokenizer\n",
    "tokenizer = AutoTokenizer.from_pretrained(\"sentence-transformers/all-MiniLM-L6-v2\")\n",
    "model = AutoModel.from_pretrained(\"sentence-transformers/all-MiniLM-L6-v2\")\n",
    "\n",
    "# Function to get embeddings\n",
    "def get_embedding(text):\n",
    "    inputs = tokenizer(text, return_tensors='pt', padding=True, truncation=True, max_length=512)\n",
    "    with torch.no_grad():\n",
    "        embeddings = model(**inputs).last_hidden_state.mean(dim=1)\n",
    "    return embeddings.numpy()\n",
    "\n",
    "\n",
    "def calculate_cosine_similarity(row, compare_field):\n",
    "    embedding1 = get_embedding(row[compare_field])\n",
    "    embedding2 = get_embedding(row['Answer'])\n",
    "    return cosine_similarity(embedding1, embedding2)[0][0]\n",
    "\n",
    "# Apply the function to create a new column with cosine similarities\n",
    "df['cosine_similarity_helpful'] = df.apply(calculate_cosine_similarity, axis=1, args=('RAG_helpful_context_response',))\n"
   ]
  },
  {
   "cell_type": "code",
   "execution_count": 10,
   "metadata": {},
   "outputs": [
    {
     "data": {
      "text/plain": [
       "Index(['Unnamed: 0.1', 'Unnamed: 0', 'Question', 'Answer', 'RAG_context',\n",
       "       'RAG_helpful_context_response', 'RAG_simple'],\n",
       "      dtype='object')"
      ]
     },
     "execution_count": 10,
     "metadata": {},
     "output_type": "execute_result"
    }
   ],
   "source": [
    "df = pd.read_csv(\"LLM_test2.csv\")\n",
    "df.columns"
   ]
  },
  {
   "cell_type": "code",
   "execution_count": 11,
   "metadata": {},
   "outputs": [],
   "source": [
    "df['cosine_similarity_helpful'] = df.apply(calculate_cosine_similarity, axis=1, args=('RAG_helpful_context_response',))\n",
    "df['cosine_similarity_simple'] = df.apply(calculate_cosine_similarity, axis=1, args=('RAG_simple',))\n",
    "\n"
   ]
  },
  {
   "cell_type": "code",
   "execution_count": 13,
   "metadata": {},
   "outputs": [
    {
     "data": {
      "text/plain": [
       "0     0.874681\n",
       "1     0.787188\n",
       "2     0.871293\n",
       "3     0.703456\n",
       "4     0.736863\n",
       "        ...   \n",
       "57    0.845873\n",
       "58    0.726939\n",
       "59    0.630078\n",
       "60    0.685755\n",
       "61    0.740384\n",
       "Name: cosine_similarity_simple, Length: 62, dtype: float32"
      ]
     },
     "execution_count": 13,
     "metadata": {},
     "output_type": "execute_result"
    }
   ],
   "source": [
    "df['cosine_similarity_simple']"
   ]
  },
  {
   "cell_type": "code",
   "execution_count": 15,
   "metadata": {},
   "outputs": [
    {
     "name": "stdout",
     "output_type": "stream",
     "text": [
      "Count above threshold (0.8): 24\n",
      "Percentage above threshold (0.8): 38.71%\n"
     ]
    }
   ],
   "source": [
    "threshold=0.80\n",
    "count_above_threshold = (df[f'cosine_similarity_simple'] > threshold).sum()\n",
    "total_count = df.shape[0]\n",
    "\n",
    "# Calculate the percentage\n",
    "percentage_above_threshold = (count_above_threshold / total_count) * 100\n",
    "\n",
    "print(f\"Count above threshold ({threshold}): {count_above_threshold}\")\n",
    "print(f\"Percentage above threshold ({threshold}): {percentage_above_threshold:.2f}%\")\n"
   ]
  },
  {
   "cell_type": "code",
   "execution_count": 16,
   "metadata": {},
   "outputs": [
    {
     "name": "stdout",
     "output_type": "stream",
     "text": [
      "Count above threshold (0.8): 8\n",
      "Percentage above threshold (0.8): 12.90%\n"
     ]
    }
   ],
   "source": [
    "threshold=0.80\n",
    "count_above_threshold = (df[f'cosine_similarity_helpful'] > threshold).sum()\n",
    "total_count = df.shape[0]\n",
    "\n",
    "# Calculate the percentage\n",
    "percentage_above_threshold = (count_above_threshold / total_count) * 100\n",
    "\n",
    "print(f\"Count above threshold ({threshold}): {count_above_threshold}\")\n",
    "print(f\"Percentage above threshold ({threshold}): {percentage_above_threshold:.2f}%\")\n"
   ]
  },
  {
   "cell_type": "code",
   "execution_count": 17,
   "metadata": {},
   "outputs": [],
   "source": [
    "df.to_csv(\"LLM_test_cosines.csv\")"
   ]
  },
  {
   "cell_type": "code",
   "execution_count": null,
   "metadata": {},
   "outputs": [],
   "source": []
  }
 ],
 "metadata": {
  "kernelspec": {
   "display_name": "Python 3",
   "language": "python",
   "name": "python3"
  },
  "language_info": {
   "codemirror_mode": {
    "name": "ipython",
    "version": 3
   },
   "file_extension": ".py",
   "mimetype": "text/x-python",
   "name": "python",
   "nbconvert_exporter": "python",
   "pygments_lexer": "ipython3",
   "version": "3.11.0"
  }
 },
 "nbformat": 4,
 "nbformat_minor": 2
}
