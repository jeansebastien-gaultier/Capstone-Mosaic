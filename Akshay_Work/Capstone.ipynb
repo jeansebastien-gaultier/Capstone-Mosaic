{
 "cells": [
  {
   "cell_type": "markdown",
   "id": "06533070",
   "metadata": {},
   "source": [
    "# 1. Data Ingestion & Preprocessing"
   ]
  },
  {
   "cell_type": "code",
   "execution_count": 1,
   "id": "3a985c7e",
   "metadata": {},
   "outputs": [
    {
     "name": "stdout",
     "output_type": "stream",
     "text": [
      "Requirement already satisfied: pypdf in c:\\users\\acer\\anaconda3\\lib\\site-packages (5.0.1)\n",
      "Requirement already satisfied: nltk in c:\\users\\acer\\anaconda3\\lib\\site-packages (3.7)\n",
      "Requirement already satisfied: typing_extensions>=4.0 in c:\\users\\acer\\anaconda3\\lib\\site-packages (from pypdf) (4.9.0)\n",
      "Requirement already satisfied: click in c:\\users\\acer\\anaconda3\\lib\\site-packages (from nltk) (8.1.7)\n",
      "Requirement already satisfied: joblib in c:\\users\\acer\\anaconda3\\lib\\site-packages (from nltk) (1.3.2)\n",
      "Requirement already satisfied: regex>=2021.8.3 in c:\\users\\acer\\anaconda3\\lib\\site-packages (from nltk) (2022.7.9)\n",
      "Requirement already satisfied: tqdm in c:\\users\\acer\\anaconda3\\lib\\site-packages (from nltk) (4.64.1)\n",
      "Requirement already satisfied: colorama in c:\\users\\acer\\anaconda3\\lib\\site-packages (from click->nltk) (0.4.6)\n"
     ]
    }
   ],
   "source": [
    "!pip install pypdf nltk"
   ]
  },
  {
   "cell_type": "code",
   "execution_count": 2,
   "id": "5ed512d3",
   "metadata": {},
   "outputs": [
    {
     "name": "stdout",
     "output_type": "stream",
     "text": [
      "Requirement already satisfied: numpy in c:\\users\\acer\\anaconda3\\lib\\site-packages (2.0.2)\n",
      "Requirement already satisfied: pandas in c:\\users\\acer\\appdata\\roaming\\python\\python39\\site-packages (2.2.0)\n",
      "Collecting pandas\n",
      "  Downloading pandas-2.2.3-cp39-cp39-win_amd64.whl (11.6 MB)\n",
      "     --------------------------------------- 11.6/11.6 MB 19.9 MB/s eta 0:00:00\n",
      "Requirement already satisfied: scikit-learn in c:\\users\\acer\\anaconda3\\lib\\site-packages (1.0.2)\n",
      "Collecting scikit-learn\n",
      "  Downloading scikit_learn-1.5.2-cp39-cp39-win_amd64.whl (11.0 MB)\n",
      "     --------------------------------------- 11.0/11.0 MB 38.6 MB/s eta 0:00:00\n",
      "Requirement already satisfied: pytz>=2020.1 in c:\\users\\acer\\anaconda3\\lib\\site-packages (from pandas) (2022.1)\n",
      "Requirement already satisfied: python-dateutil>=2.8.2 in c:\\users\\acer\\anaconda3\\lib\\site-packages (from pandas) (2.8.2)\n",
      "Requirement already satisfied: tzdata>=2022.7 in c:\\users\\acer\\anaconda3\\lib\\site-packages (from pandas) (2023.4)\n",
      "Requirement already satisfied: joblib>=1.2.0 in c:\\users\\acer\\anaconda3\\lib\\site-packages (from scikit-learn) (1.3.2)\n",
      "Requirement already satisfied: scipy>=1.6.0 in c:\\users\\acer\\anaconda3\\lib\\site-packages (from scikit-learn) (1.9.1)\n",
      "Collecting threadpoolctl>=3.1.0\n",
      "  Downloading threadpoolctl-3.5.0-py3-none-any.whl (18 kB)\n",
      "Requirement already satisfied: six>=1.5 in c:\\users\\acer\\anaconda3\\lib\\site-packages (from python-dateutil>=2.8.2->pandas) (1.16.0)\n",
      "Collecting numpy\n",
      "  Using cached numpy-1.24.4-cp39-cp39-win_amd64.whl (14.9 MB)\n",
      "Installing collected packages: threadpoolctl, numpy, pandas, scikit-learn\n",
      "  Attempting uninstall: threadpoolctl\n",
      "    Found existing installation: threadpoolctl 2.2.0\n",
      "    Uninstalling threadpoolctl-2.2.0:\n",
      "      Successfully uninstalled threadpoolctl-2.2.0\n",
      "  Attempting uninstall: numpy\n",
      "    Found existing installation: numpy 2.0.2\n",
      "    Uninstalling numpy-2.0.2:\n",
      "      Successfully uninstalled numpy-2.0.2\n",
      "  Attempting uninstall: pandas\n",
      "    Found existing installation: pandas 2.2.0\n",
      "    Uninstalling pandas-2.2.0:\n",
      "      Successfully uninstalled pandas-2.2.0\n",
      "  Attempting uninstall: scikit-learn\n",
      "    Found existing installation: scikit-learn 1.0.2\n",
      "    Uninstalling scikit-learn-1.0.2:\n",
      "      Successfully uninstalled scikit-learn-1.0.2\n",
      "Successfully installed numpy-1.24.4 pandas-2.2.3 scikit-learn-1.5.2 threadpoolctl-3.5.0\n"
     ]
    },
    {
     "name": "stderr",
     "output_type": "stream",
     "text": [
      "ERROR: pip's dependency resolver does not currently take into account all the packages that are installed. This behaviour is the source of the following dependency conflicts.\n",
      "daal4py 2021.6.0 requires daal==2021.4.0, which is not installed.\n",
      "faiss-cpu 1.9.0 requires numpy<3.0,>=1.25.0, but you have numpy 1.24.4 which is incompatible.\n",
      "numba 0.55.1 requires numpy<1.22,>=1.18, but you have numpy 1.24.4 which is incompatible.\n"
     ]
    }
   ],
   "source": [
    "!pip install --upgrade numpy pandas scikit-learn"
   ]
  },
  {
   "cell_type": "code",
   "execution_count": 3,
   "id": "bb8dc9ac",
   "metadata": {},
   "outputs": [
    {
     "name": "stderr",
     "output_type": "stream",
     "text": [
      "[nltk_data] Downloading package punkt to\n",
      "[nltk_data]     C:\\Users\\ACER\\AppData\\Roaming\\nltk_data...\n",
      "[nltk_data]   Package punkt is already up-to-date!\n",
      "[nltk_data] Downloading package stopwords to\n",
      "[nltk_data]     C:\\Users\\ACER\\AppData\\Roaming\\nltk_data...\n",
      "[nltk_data]   Package stopwords is already up-to-date!\n"
     ]
    },
    {
     "data": {
      "text/plain": [
       "True"
      ]
     },
     "execution_count": 3,
     "metadata": {},
     "output_type": "execute_result"
    }
   ],
   "source": [
    "from pypdf import PdfReader  \n",
    "import nltk\n",
    "\n",
    "# Download required nltk resources\n",
    "nltk.download('punkt')\n",
    "nltk.download('stopwords')"
   ]
  },
  {
   "cell_type": "code",
   "execution_count": 4,
   "id": "a6513601",
   "metadata": {},
   "outputs": [
    {
     "name": "stderr",
     "output_type": "stream",
     "text": [
      "Ignoring wrong pointing object 2 0 (offset 0)\n",
      "Ignoring wrong pointing object 3 0 (offset 0)\n",
      "Ignoring wrong pointing object 37 0 (offset 0)\n",
      "Ignoring wrong pointing object 38 0 (offset 0)\n",
      "Ignoring wrong pointing object 39 0 (offset 0)\n",
      "Ignoring wrong pointing object 40 0 (offset 0)\n",
      "Ignoring wrong pointing object 41 0 (offset 0)\n",
      "Ignoring wrong pointing object 42 0 (offset 0)\n",
      "Ignoring wrong pointing object 43 0 (offset 0)\n",
      "Ignoring wrong pointing object 44 0 (offset 0)\n",
      "Ignoring wrong pointing object 45 0 (offset 0)\n",
      "Ignoring wrong pointing object 46 0 (offset 0)\n",
      "Ignoring wrong pointing object 47 0 (offset 0)\n",
      "Ignoring wrong pointing object 48 0 (offset 0)\n",
      "Ignoring wrong pointing object 49 0 (offset 0)\n",
      "Ignoring wrong pointing object 50 0 (offset 0)\n",
      "Ignoring wrong pointing object 51 0 (offset 0)\n"
     ]
    }
   ],
   "source": [
    "# Step 3: Load the PDF and extract text\n",
    "pdf_path = \"C:/Users/ACER/Documents/Chicago/Academic/Quarter4/Capstone/Portillo's Inc., Q4 2023 Earnings Call.pdf\"\n",
    "reader = PdfReader(pdf_path)"
   ]
  },
  {
   "cell_type": "code",
   "execution_count": 5,
   "id": "488954b2",
   "metadata": {},
   "outputs": [],
   "source": [
    "all_text = \"\"\n",
    "for page_num in range(len(reader.pages)):\n",
    "    page = reader.pages[page_num]\n",
    "    all_text += page.extract_text()"
   ]
  },
  {
   "cell_type": "code",
   "execution_count": 6,
   "id": "53208308",
   "metadata": {},
   "outputs": [
    {
     "name": "stdout",
     "output_type": "stream",
     "text": [
      " \n",
      "COPYRIGHT © 2024 S&P Global Market Intelligence, a division  of S&P Global Inc. All rights reserved\n",
      "spglobal.com/marketintelligence1\n",
      "Portillo's Inc. NasdaqGS:PTLO\n",
      "FQ4 2023 Earnings Call  Transcripts\n",
      "Tuesday, February 27, 2024 3:00 PM  GMT\n",
      "S&P Global Market  Intelligence  Estimates\n",
      " -FQ4 2023- -FQ1 2024- -FY 2023- -FY 2024-\n",
      " CONSENSUS ACTUAL SURPRISE CONSENSUS CONSENSUS ACTUAL SURPRISE CONSENSUS\n",
      "EPS \n",
      "Normalized  0.05 0.22\n",
      " 340.00 0.05 0.28 0.71\n",
      " 153.57 0.39\n",
      "Revenue  \n",
      "(mm)184.22 187.86\n",
      " 1.98 178\n"
     ]
    }
   ],
   "source": [
    "# Verify the text extraction\n",
    "print(all_text[:500])"
   ]
  },
  {
   "cell_type": "code",
   "execution_count": 7,
   "id": "293f1e6d",
   "metadata": {},
   "outputs": [],
   "source": [
    "# Step 4: Preprocess the extracted text\n",
    "from nltk.tokenize import word_tokenize\n",
    "from nltk.corpus import stopwords\n",
    "import string"
   ]
  },
  {
   "cell_type": "code",
   "execution_count": 8,
   "id": "46c8530d",
   "metadata": {},
   "outputs": [],
   "source": [
    "# Tokenize the text\n",
    "tokens = word_tokenize(all_text)"
   ]
  },
  {
   "cell_type": "code",
   "execution_count": 9,
   "id": "5b58cb6c",
   "metadata": {},
   "outputs": [],
   "source": [
    "# Convert tokens to lowercase\n",
    "tokens = [word.lower() for word in tokens]"
   ]
  },
  {
   "cell_type": "code",
   "execution_count": 10,
   "id": "9ecb42e1",
   "metadata": {},
   "outputs": [],
   "source": [
    "# Remove stop words and punctuation\n",
    "punctuation = string.punctuation\n",
    "stop_words = set(stopwords.words('english'))\n",
    "clean_tokens = [word for word in tokens if word not in stop_words and word not in punctuation]"
   ]
  },
  {
   "cell_type": "code",
   "execution_count": 11,
   "id": "2808928c",
   "metadata": {},
   "outputs": [
    {
     "name": "stdout",
     "output_type": "stream",
     "text": [
      "['copyright', '©', '2024', 'p', 'global', 'market', 'intelligence', 'division', 'p', 'global', 'inc.', 'rights', 'reserved', 'spglobal.com/marketintelligence1', 'portillo', \"'s\", 'inc.', 'nasdaqgs', 'ptlo', 'fq4', '2023', 'earnings', 'call', 'transcripts', 'tuesday', 'february', '27', '2024', '3:00', 'pm', 'gmt', 'p', 'global', 'market', 'intelligence', 'estimates', '-fq4', '2023-', '-fq1', '2024-', '-fy', '2023-', '-fy', '2024-', 'consensus', 'actual', 'surprise', 'consensus', 'consensus', 'actual']\n"
     ]
    }
   ],
   "source": [
    "# Display cleaned tokens\n",
    "print(clean_tokens[:50])"
   ]
  },
  {
   "cell_type": "markdown",
   "id": "71b033dd",
   "metadata": {},
   "source": [
    "# Embedding Financial Documents"
   ]
  },
  {
   "cell_type": "code",
   "execution_count": 12,
   "id": "c0c76768",
   "metadata": {},
   "outputs": [
    {
     "name": "stdout",
     "output_type": "stream",
     "text": [
      "Requirement already satisfied: transformers in c:\\users\\acer\\anaconda3\\lib\\site-packages (4.45.2)\n",
      "Requirement already satisfied: sentence-transformers in c:\\users\\acer\\anaconda3\\lib\\site-packages (3.1.1)\n",
      "Requirement already satisfied: filelock in c:\\users\\acer\\anaconda3\\lib\\site-packages (from transformers) (3.6.0)\n",
      "Requirement already satisfied: requests in c:\\users\\acer\\anaconda3\\lib\\site-packages (from transformers) (2.28.1)\n",
      "Requirement already satisfied: numpy>=1.17 in c:\\users\\acer\\anaconda3\\lib\\site-packages (from transformers) (1.24.4)\n",
      "Requirement already satisfied: regex!=2019.12.17 in c:\\users\\acer\\anaconda3\\lib\\site-packages (from transformers) (2022.7.9)\n",
      "Requirement already satisfied: packaging>=20.0 in c:\\users\\acer\\anaconda3\\lib\\site-packages (from transformers) (23.2)\n",
      "Requirement already satisfied: pyyaml>=5.1 in c:\\users\\acer\\anaconda3\\lib\\site-packages (from transformers) (6.0)\n",
      "Requirement already satisfied: tqdm>=4.27 in c:\\users\\acer\\anaconda3\\lib\\site-packages (from transformers) (4.64.1)\n",
      "Requirement already satisfied: safetensors>=0.4.1 in c:\\users\\acer\\anaconda3\\lib\\site-packages (from transformers) (0.4.5)\n",
      "Requirement already satisfied: huggingface-hub<1.0,>=0.23.2 in c:\\users\\acer\\anaconda3\\lib\\site-packages (from transformers) (0.25.2)\n",
      "Requirement already satisfied: tokenizers<0.21,>=0.20 in c:\\users\\acer\\anaconda3\\lib\\site-packages (from transformers) (0.20.0)\n",
      "Requirement already satisfied: scipy in c:\\users\\acer\\anaconda3\\lib\\site-packages (from sentence-transformers) (1.9.1)\n",
      "Requirement already satisfied: torch>=1.11.0 in c:\\users\\acer\\anaconda3\\lib\\site-packages (from sentence-transformers) (2.4.1)\n",
      "Requirement already satisfied: Pillow in c:\\users\\acer\\anaconda3\\lib\\site-packages (from sentence-transformers) (9.2.0)\n",
      "Requirement already satisfied: scikit-learn in c:\\users\\acer\\anaconda3\\lib\\site-packages (from sentence-transformers) (1.5.2)\n",
      "Requirement already satisfied: typing-extensions>=3.7.4.3 in c:\\users\\acer\\anaconda3\\lib\\site-packages (from huggingface-hub<1.0,>=0.23.2->transformers) (4.9.0)\n",
      "Requirement already satisfied: fsspec>=2023.5.0 in c:\\users\\acer\\anaconda3\\lib\\site-packages (from huggingface-hub<1.0,>=0.23.2->transformers) (2024.3.1)\n",
      "Requirement already satisfied: sympy in c:\\users\\acer\\anaconda3\\lib\\site-packages (from torch>=1.11.0->sentence-transformers) (1.10.1)\n",
      "Requirement already satisfied: networkx in c:\\users\\acer\\anaconda3\\lib\\site-packages (from torch>=1.11.0->sentence-transformers) (2.8.4)\n",
      "Requirement already satisfied: jinja2 in c:\\users\\acer\\anaconda3\\lib\\site-packages (from torch>=1.11.0->sentence-transformers) (2.11.3)\n",
      "Requirement already satisfied: colorama in c:\\users\\acer\\anaconda3\\lib\\site-packages (from tqdm>=4.27->transformers) (0.4.6)\n",
      "Requirement already satisfied: charset-normalizer<3,>=2 in c:\\users\\acer\\anaconda3\\lib\\site-packages (from requests->transformers) (2.0.4)\n",
      "Requirement already satisfied: idna<4,>=2.5 in c:\\users\\acer\\anaconda3\\lib\\site-packages (from requests->transformers) (3.3)\n",
      "Requirement already satisfied: certifi>=2017.4.17 in c:\\users\\acer\\anaconda3\\lib\\site-packages (from requests->transformers) (2022.9.14)\n",
      "Requirement already satisfied: urllib3<1.27,>=1.21.1 in c:\\users\\acer\\anaconda3\\lib\\site-packages (from requests->transformers) (1.26.11)\n",
      "Requirement already satisfied: threadpoolctl>=3.1.0 in c:\\users\\acer\\anaconda3\\lib\\site-packages (from scikit-learn->sentence-transformers) (3.5.0)\n",
      "Requirement already satisfied: joblib>=1.2.0 in c:\\users\\acer\\anaconda3\\lib\\site-packages (from scikit-learn->sentence-transformers) (1.3.2)\n",
      "Requirement already satisfied: MarkupSafe>=0.23 in c:\\users\\acer\\anaconda3\\lib\\site-packages (from jinja2->torch>=1.11.0->sentence-transformers) (2.0.1)\n",
      "Requirement already satisfied: mpmath>=0.19 in c:\\users\\acer\\anaconda3\\lib\\site-packages (from sympy->torch>=1.11.0->sentence-transformers) (1.2.1)\n"
     ]
    }
   ],
   "source": [
    "!pip install transformers sentence-transformers"
   ]
  },
  {
   "cell_type": "code",
   "execution_count": 13,
   "id": "07873ad5",
   "metadata": {},
   "outputs": [],
   "source": [
    "from transformers import AutoTokenizer, AutoModel\n",
    "import torch\n",
    "\n",
    "# Load the FinBERT model and tokenizer\n",
    "tokenizer = AutoTokenizer.from_pretrained(\"yiyanghkust/finbert-tone\")\n",
    "model = AutoModel.from_pretrained(\"yiyanghkust/finbert-tone\")"
   ]
  },
  {
   "cell_type": "code",
   "execution_count": 14,
   "id": "868db9e7",
   "metadata": {},
   "outputs": [],
   "source": [
    "# Tokenize the text from your document\n",
    "inputs = tokenizer(all_text, return_tensors=\"pt\", padding=True, truncation=True, max_length=512)"
   ]
  },
  {
   "cell_type": "code",
   "execution_count": 15,
   "id": "39005659",
   "metadata": {},
   "outputs": [
    {
     "name": "stdout",
     "output_type": "stream",
     "text": [
      "torch.Size([1, 768])\n"
     ]
    }
   ],
   "source": [
    "# Get the embeddings from the model\n",
    "with torch.no_grad():\n",
    "    outputs = model(**inputs)\n",
    "    embeddings = outputs.last_hidden_state.mean(dim=1)  # Average the embeddings across all tokens\n",
    "\n",
    "# Display the shape of the embeddings\n",
    "print(embeddings.shape)"
   ]
  },
  {
   "cell_type": "code",
   "execution_count": 16,
   "id": "f35363bd",
   "metadata": {},
   "outputs": [
    {
     "name": "stdout",
     "output_type": "stream",
     "text": [
      "tensor([-2.7319e-01, -3.6481e-01, -3.6161e-01, -1.7184e-01,  1.3324e+00,\n",
      "        -7.2426e-01, -2.7234e-01,  5.9722e-01,  4.0316e-01,  5.3516e-01,\n",
      "         5.9313e-01, -5.8368e-01, -1.8264e-01, -5.2914e-01,  5.7329e-01,\n",
      "         4.3494e-01, -8.8477e-01,  1.1830e+00, -3.8145e-02, -4.0847e-01,\n",
      "         9.3721e-01, -3.3431e-01,  1.6853e+00,  3.2284e-01, -2.8169e-01,\n",
      "         9.0930e-01, -5.0063e-01,  5.6692e-01,  7.6061e-01, -3.5531e-01,\n",
      "        -7.0372e-01, -4.2000e-02,  2.5084e-01, -6.3728e-01, -4.2587e-01,\n",
      "        -9.1050e-01, -1.1567e+00, -1.1945e-01,  4.2141e-01, -2.2326e-01,\n",
      "         2.9281e-01, -5.8033e-01, -1.1433e-01, -4.0517e-01, -4.3461e-01,\n",
      "        -7.8652e-01,  2.7294e-01,  4.1155e-01,  1.1652e+00, -2.1159e-03,\n",
      "         1.5774e+00,  4.7148e-01, -5.6455e-02,  1.0802e+00,  4.8336e-01,\n",
      "         2.6336e-01,  1.4127e-01, -8.9795e-01,  4.0267e-01, -2.0294e-01,\n",
      "         7.4118e-01, -1.6872e-01, -5.8445e-01, -2.7740e-02, -3.4315e-02,\n",
      "         1.1909e+00, -8.2529e-01,  6.3169e-01, -3.0555e+00,  7.2905e-01,\n",
      "         4.1506e-01, -6.6982e-01, -9.7951e-01, -5.1354e-01,  3.5108e-02,\n",
      "        -2.3245e-01,  1.1732e-01,  7.5666e-01, -8.4478e-01,  3.6672e-01,\n",
      "         5.4700e-01, -2.1421e+00, -2.7328e-01,  3.0921e-01, -6.1900e-02,\n",
      "         8.2709e-01, -1.2723e+00, -3.3071e-01,  1.0003e+00, -1.5583e-01,\n",
      "        -1.9971e-01,  8.3936e-01, -4.2188e-01, -2.7240e-01, -7.7403e-01,\n",
      "        -2.9849e-02, -1.4375e-01,  8.4871e-01, -8.9183e-01,  2.9014e-01,\n",
      "        -1.0695e+00,  1.1800e+00,  2.4548e-01, -1.2001e+00,  1.5510e-01,\n",
      "        -5.4575e-01,  2.4305e-01, -3.0350e-01, -1.1139e+00, -7.6792e-01,\n",
      "         5.5913e-01, -5.6046e-01, -5.3518e-01, -1.4122e-02,  5.2851e-01,\n",
      "        -5.8234e-01, -2.7135e-01, -7.5470e-02,  1.7881e-01, -2.6921e-01,\n",
      "         8.2575e-01, -6.5503e-01, -7.7605e-02, -5.0063e-01, -1.7352e-01,\n",
      "         4.3327e-01, -4.4554e-01, -1.4253e+00, -9.0512e-01,  9.3403e-01,\n",
      "        -8.5916e-01, -8.5909e-01, -2.1732e-01,  1.7657e+00, -1.1054e-02,\n",
      "         1.4910e-01, -8.8725e-01,  1.5200e+00,  4.3220e-01,  2.1918e-01,\n",
      "        -8.1926e-01, -8.3606e-01,  4.6831e-01,  1.5088e-01,  1.3528e-01,\n",
      "        -4.6514e-01, -2.6937e-01, -7.9877e-01,  8.4967e-01,  3.2818e-01,\n",
      "        -4.2869e-01, -3.2354e-01,  3.8561e-01, -3.1624e-01,  3.8819e-01,\n",
      "        -5.8379e-01,  8.2690e-01, -6.9219e-01, -1.1155e+00, -3.8259e-01,\n",
      "         1.1936e+00, -6.9125e-01, -6.9695e-01, -1.6302e-02,  7.7730e-01,\n",
      "         6.8021e-01,  7.5220e-01,  3.5298e-01, -2.2532e-01,  1.3390e-01,\n",
      "         2.3230e-01, -6.6748e-02, -3.1347e-01, -3.3155e-04, -4.4692e-01,\n",
      "         8.2491e-01, -1.5482e-01, -1.2730e+00,  9.7538e-02,  6.1123e-01,\n",
      "         9.5581e-02, -7.3016e-02, -2.4230e-01, -8.6554e-01, -1.0043e+00,\n",
      "        -3.4632e-01,  5.1670e-01, -1.8685e-01, -5.2376e-01, -6.7965e-01,\n",
      "        -5.4469e-01, -7.8271e-01,  1.9956e-01,  6.7597e-02,  5.4973e-01,\n",
      "         3.9164e-03,  6.6469e-01,  4.1467e-01, -2.9030e-01,  2.0431e-02,\n",
      "        -3.5017e-01, -1.5628e-01,  5.7005e-01, -1.5497e+00,  3.5978e-01,\n",
      "        -1.2612e+00,  4.6588e-01, -5.6510e-01,  6.6877e-01, -1.4825e+00,\n",
      "        -2.9302e-01, -1.6325e-01,  3.8701e-03, -6.4597e-01,  2.5675e-01,\n",
      "        -3.5115e-01,  2.4668e-01, -6.3105e-01, -3.0160e-01, -1.5375e-01,\n",
      "        -1.5270e-01, -7.4961e-03, -6.1853e-01, -5.6800e-01,  6.4305e-01,\n",
      "        -4.3305e-01,  3.5647e-01, -1.2519e+00, -1.2962e+00,  3.1246e-01,\n",
      "         2.0713e-01, -6.9467e-02,  1.8129e-01,  2.3331e-01,  4.1705e-01,\n",
      "         2.4948e-01,  1.1053e+00, -6.5644e-01, -1.0037e+00, -1.6503e+00,\n",
      "         2.2914e-01,  2.3610e-01, -1.1565e+00, -5.3859e-01, -4.4393e-01,\n",
      "        -4.8071e-01,  4.1522e-01,  5.7562e-01,  1.4725e-01,  9.1191e-01,\n",
      "         4.3502e-02, -1.5466e-01, -3.9063e-01,  8.1815e-01,  6.2991e-01,\n",
      "         5.2664e-01,  2.3916e-01,  3.3435e-01,  9.6033e-01, -1.3827e-01,\n",
      "         9.4638e-02,  7.8787e-01, -1.2729e+00,  1.5732e-01, -4.9508e-02,\n",
      "        -3.6027e-02,  9.8772e-01,  4.1416e-02,  1.9900e-01, -6.6157e-01,\n",
      "         6.8185e-01, -8.2569e-02, -7.0021e-01, -5.8062e-01, -1.1557e-01,\n",
      "        -3.6390e-01, -9.5612e-02,  7.8194e-02, -9.2715e-01, -8.5577e-01,\n",
      "         1.2786e+00, -9.9796e-01,  3.7179e-01, -1.5643e-01,  7.7549e-01,\n",
      "        -1.8367e-01,  2.5235e-01, -2.3375e-01, -6.3455e-01, -4.3840e-01,\n",
      "         6.2558e-01, -3.9468e-02, -7.3232e-01,  3.6750e-01,  3.2190e-01,\n",
      "        -4.5605e-01, -7.9514e-02, -1.2259e+00, -2.1211e-01, -7.6465e-01,\n",
      "         5.3925e-01, -3.3159e-01,  6.5473e-01,  9.6342e-01,  7.2254e-01,\n",
      "         7.3271e-01,  3.7349e-01, -3.1341e-01, -6.1501e+00,  4.6653e-01,\n",
      "        -1.3685e+00, -6.5816e-01,  9.2916e-01, -6.8772e-01, -6.1840e-01,\n",
      "        -9.6239e-01,  1.0875e+00,  6.0400e-01, -5.4953e-01,  1.2756e+00,\n",
      "        -1.2793e-01, -4.6428e-01, -9.4450e-01,  7.9962e-01,  3.2987e-01,\n",
      "         1.2704e+00,  1.5355e+00,  3.4038e-01,  1.7191e-02,  8.9137e-02,\n",
      "        -4.6195e-01,  1.3020e-01,  3.6843e-02,  5.4847e-01,  2.9095e+00,\n",
      "        -1.0430e+00, -1.1699e+00, -1.7059e-01, -1.8910e-01, -2.0328e-01,\n",
      "         1.7538e-01, -4.9612e-01, -1.2317e+00,  3.3236e-01,  1.3360e+00,\n",
      "        -1.4440e+00, -8.5218e-02, -2.8016e-02, -6.5655e-01, -3.4660e-01,\n",
      "         3.8033e-01,  6.3504e-01,  5.6959e-02, -1.5443e-01,  3.4714e-01,\n",
      "        -2.7003e-01, -1.6308e-01,  6.8591e-01,  5.9149e-01, -1.0519e+00,\n",
      "         2.8605e-01, -6.1273e-01,  3.1343e-01, -3.7949e-01,  1.0217e+00,\n",
      "         2.7075e-01,  7.8257e-01,  1.5486e-01, -4.2757e-01, -7.0306e-01,\n",
      "         3.6101e-01,  3.3007e-01,  3.8672e-01, -4.9262e-02, -2.6593e-01,\n",
      "         2.6002e-01, -4.4323e-01,  5.1798e-01,  6.9174e-02, -2.0604e+00,\n",
      "         8.4464e-01,  8.3203e-01, -9.6317e-01,  1.1027e-01, -7.2320e-01,\n",
      "        -2.1074e-01,  7.6294e-01,  5.8410e-01,  3.8075e-01,  6.0640e-01,\n",
      "         2.2713e-01, -4.2498e-01,  6.1638e-01, -1.5092e+00,  2.7686e-01,\n",
      "         6.8452e-01,  3.8484e-01, -1.1091e+00,  9.2154e-02, -7.7644e-01,\n",
      "        -1.1512e+00, -3.9920e-01, -2.5562e-01, -6.8829e-01,  3.8987e-01,\n",
      "         3.9911e-01,  2.9837e-01,  1.0690e+00, -1.1339e+00, -9.2819e-01,\n",
      "         7.7183e-01, -4.6110e-01, -3.8641e-01,  5.3791e-01,  3.9256e-01,\n",
      "        -8.4480e-01,  1.4210e-01, -6.3506e-01,  1.1191e-01,  1.0941e+00,\n",
      "        -5.8810e-01, -3.2405e-01, -2.2555e-03, -8.1148e-03,  1.9154e-01,\n",
      "        -5.4016e-01, -9.2264e-02, -1.6795e-01, -5.7058e-01, -7.4026e-01,\n",
      "         1.0185e-01,  1.8455e-01, -4.5206e-01, -6.9891e-01, -4.4058e-01,\n",
      "         1.3670e-01, -2.7444e-01,  5.3244e-01, -1.6415e-01,  9.1587e-01,\n",
      "         9.7643e-01,  7.1064e-01,  8.9860e-01,  1.4169e+00,  2.0862e-01,\n",
      "         1.9384e-01,  7.7602e-01, -1.5594e-01, -1.2379e+00, -1.1072e+00,\n",
      "         6.8986e-01,  2.5491e-01, -2.8764e-01,  2.0843e-01, -2.1087e-01,\n",
      "         4.8346e-01,  1.3413e+00, -1.3144e+00,  7.8207e-02,  1.4713e+00,\n",
      "         4.8608e-01,  4.7013e-01,  8.1695e-01,  9.3132e-01, -3.2914e-02,\n",
      "         3.8604e-01,  7.1404e-01,  8.8417e-01,  5.5668e-01,  8.8966e-01,\n",
      "        -3.3043e-01,  4.4367e-01,  6.9315e-01,  7.1393e-02,  7.0014e-01,\n",
      "        -5.1779e-01, -2.5777e-01, -3.5185e-02, -5.0953e-01,  1.9364e-01,\n",
      "         4.3084e-01, -8.6897e-01, -3.4783e-01, -1.4942e+00, -8.0978e-02,\n",
      "        -7.8312e-01, -5.1727e-01,  7.3723e-01, -1.0047e+00,  3.4034e-01,\n",
      "        -9.6998e-02,  1.7521e-01,  2.0454e-02, -3.3247e-01,  3.0036e-01,\n",
      "         9.6172e-01,  8.2939e-01,  1.4766e-01,  2.9742e-01, -8.1142e-02,\n",
      "         3.3813e-01, -1.3930e+00,  3.2714e-01, -1.7574e-01,  1.0159e+00,\n",
      "         2.3870e-01,  4.8551e-02, -2.9229e-01,  6.8795e-02, -1.9727e-02,\n",
      "         6.3809e-01, -5.7447e-01,  9.5667e-01,  6.2867e-02, -7.4935e-01,\n",
      "        -1.8054e-01,  8.4723e-01,  2.6878e-01,  9.0636e-02, -2.1728e-01,\n",
      "         1.0443e+00, -2.7891e-01,  1.0594e-01, -5.6149e-01,  2.2804e-01,\n",
      "         1.3799e-01, -1.4144e-01, -1.6927e-01, -8.1917e-01, -3.0362e-01,\n",
      "        -4.7406e-02,  8.5544e-01, -1.2325e-01, -1.3090e-01,  1.9067e-01,\n",
      "         3.8804e-01, -1.0388e+00,  1.8787e+00, -1.1634e+00, -3.7740e-02,\n",
      "        -2.6102e-01, -5.2933e-01, -6.5559e-02, -7.1948e-01,  6.2237e-01,\n",
      "         1.4897e+00, -1.4699e-01,  4.6968e-01, -2.2682e-01, -6.6822e-01,\n",
      "         2.7568e-02, -2.4689e-01,  2.8784e-01, -1.1684e+00,  6.1632e-01,\n",
      "        -5.0597e-01,  9.6113e-01, -4.6267e-01,  7.6710e-01, -1.9320e-01,\n",
      "         1.1511e-01, -4.3683e-01, -1.1368e-01, -8.3111e-02, -2.9187e-01,\n",
      "         1.4144e+00, -1.4083e-02, -2.1937e-01,  4.2421e-01, -2.3311e-02,\n",
      "        -1.2048e+00,  1.1059e+00,  7.1498e-01,  1.4943e-01, -5.7118e-01,\n",
      "         4.8767e-01, -4.4345e-01, -2.4626e-01,  7.9566e-02, -4.0943e-01,\n",
      "        -2.3797e-01, -8.0531e-01, -7.6968e-02,  5.2307e-01,  2.2265e-01,\n",
      "         6.2503e-01,  5.4077e-01,  3.5420e-01, -7.4799e-01,  1.0260e+00,\n",
      "        -5.6825e-01,  4.1255e-01,  1.1241e+00,  4.1210e-01, -1.5376e-01,\n",
      "         4.8496e-02, -4.3253e-01, -4.8923e-01, -4.2424e-01, -7.9187e-05,\n",
      "         7.6240e-02,  2.5260e-01, -8.0356e-01, -3.0767e-01,  4.4306e-01,\n",
      "        -3.4624e-01,  4.1760e-01,  6.3315e-01,  5.5298e-01,  6.7359e-01,\n",
      "        -5.5689e-01, -2.2967e-01,  3.6776e-02,  4.9068e-01,  4.7654e-01,\n",
      "        -7.9673e-01,  1.0981e+00, -3.9489e-01,  4.1211e-01, -4.7676e-01,\n",
      "        -2.2447e-01,  8.2170e-01, -4.1775e-01,  5.8567e-01,  4.1336e-01,\n",
      "         2.7070e-01, -1.0705e+00,  3.4193e-01,  4.6133e-01,  2.7000e-01,\n",
      "        -4.8301e-01,  3.0533e-01,  2.5703e-01, -6.3588e-01,  4.7355e-01,\n",
      "        -6.4886e-01, -5.2165e-01,  1.4203e+00,  3.7214e-01, -1.0713e-01,\n",
      "        -1.1954e+00, -3.7523e-01,  4.9048e-01, -2.8968e-01, -7.4691e-02,\n",
      "         6.9542e-01,  8.5627e-01,  8.1071e-01,  4.2091e-01,  8.4717e-01,\n",
      "         1.3767e-01, -1.1463e+00,  7.7157e-01,  6.7606e-02,  1.7909e-01,\n",
      "        -5.3290e-01, -1.1363e-01, -6.4260e-01,  1.0948e+00,  4.8198e-02,\n",
      "         4.0314e-01, -1.0161e-01, -8.2822e-01, -1.4134e+00,  3.5011e-02,\n",
      "        -1.2827e+00, -6.9092e-01,  3.3464e-01,  6.1643e-01,  5.5772e-01,\n",
      "         4.7142e-01, -2.8734e-01, -3.6441e-02, -2.5687e-01, -6.4763e-01,\n",
      "         6.7129e-01, -5.4550e-01, -6.4479e-01,  8.6650e-01, -7.8713e-01,\n",
      "        -4.8894e-02,  1.4137e-01, -2.2158e-02,  3.4529e-02, -3.3020e-01,\n",
      "         2.3020e-02,  3.1077e-01, -1.2713e+00,  3.3798e-01,  1.2253e-01,\n",
      "         3.6755e-01, -1.8334e-01,  1.2577e+00, -1.7300e-01,  1.6371e-01,\n",
      "         3.7470e-02, -2.7664e-01,  3.3577e+00, -1.4495e+00,  5.1462e-01,\n",
      "         2.4968e-01,  1.0083e+00,  1.7289e-01, -4.0456e-01,  9.0124e-01,\n",
      "         4.0337e-01,  1.4377e+00,  8.2216e-01, -2.7888e-01, -7.9236e-01,\n",
      "         1.3349e+00, -7.5942e-02, -8.3946e-01, -2.2739e-01,  6.2757e-01,\n",
      "        -2.5681e-02, -2.6681e-01, -5.1066e-01, -8.6682e-01, -5.4016e-01,\n",
      "        -1.5861e-02, -9.3303e-02, -6.3752e-01,  5.2509e-02, -4.9720e-01,\n",
      "         7.8061e-01, -2.1921e-02, -4.6718e-01,  2.1622e-01, -6.7046e-01,\n",
      "        -2.0953e-01,  7.2621e-01,  3.5259e-01, -4.2315e-01, -6.2906e-01,\n",
      "        -2.8476e-01,  3.3431e-01,  6.7906e-01,  8.8805e-01,  3.7165e-01,\n",
      "        -9.6262e-01,  4.4529e-01, -1.3183e-01,  1.3505e+00, -3.5015e-02,\n",
      "         8.2130e-01,  4.0998e-01, -5.6982e-02,  8.7124e-01, -4.2210e-01,\n",
      "         7.5735e-01, -7.0199e-01,  1.2163e+00,  3.0984e-01,  3.3073e-02,\n",
      "         4.3648e-01, -2.3381e-02, -6.6336e-01, -1.6377e-01, -3.1364e-01,\n",
      "         2.3862e-01,  8.3617e-01,  4.3000e-01,  6.6734e-02,  5.6514e-02,\n",
      "        -1.6130e-01,  1.8348e-01,  4.7430e-01])\n"
     ]
    }
   ],
   "source": [
    "#print the actual embedding for the first document\n",
    "print(embeddings[0])"
   ]
  },
  {
   "cell_type": "markdown",
   "id": "734a7561",
   "metadata": {},
   "source": [
    "# Storing and Indexing"
   ]
  },
  {
   "cell_type": "code",
   "execution_count": 17,
   "id": "f24c5d65",
   "metadata": {},
   "outputs": [
    {
     "name": "stdout",
     "output_type": "stream",
     "text": [
      "Requirement already satisfied: faiss-cpu in c:\\users\\acer\\appdata\\roaming\\python\\python39\\site-packages (1.9.0)\n",
      "Collecting numpy<3.0,>=1.25.0\n",
      "  Using cached numpy-2.0.2-cp39-cp39-win_amd64.whl (15.9 MB)\n",
      "Requirement already satisfied: packaging in c:\\users\\acer\\anaconda3\\lib\\site-packages (from faiss-cpu) (23.2)\n",
      "Installing collected packages: numpy\n",
      "Successfully installed numpy-2.0.2\n"
     ]
    },
    {
     "name": "stderr",
     "output_type": "stream",
     "text": [
      "  WARNING: The scripts f2py.exe and numpy-config.exe are installed in 'C:\\Users\\ACER\\AppData\\Roaming\\Python\\Python39\\Scripts' which is not on PATH.\n",
      "  Consider adding this directory to PATH or, if you prefer to suppress this warning, use --no-warn-script-location.\n",
      "ERROR: pip's dependency resolver does not currently take into account all the packages that are installed. This behaviour is the source of the following dependency conflicts.\n",
      "daal4py 2021.6.0 requires daal==2021.4.0, which is not installed.\n",
      "tensorflow-intel 2.16.1 requires numpy<2.0.0,>=1.23.5; python_version <= \"3.11\", but you have numpy 2.0.2 which is incompatible.\n",
      "scipy 1.9.1 requires numpy<1.25.0,>=1.18.5, but you have numpy 2.0.2 which is incompatible.\n",
      "pyarrow 15.0.0 requires numpy<2,>=1.16.6, but you have numpy 2.0.2 which is incompatible.\n",
      "numba 0.55.1 requires numpy<1.22,>=1.18, but you have numpy 2.0.2 which is incompatible.\n",
      "langchain 0.0.354 requires numpy<2,>=1, but you have numpy 2.0.2 which is incompatible.\n",
      "langchain-community 0.0.20 requires numpy<2,>=1, but you have numpy 2.0.2 which is incompatible.\n"
     ]
    }
   ],
   "source": [
    "!pip install --user faiss-cpu"
   ]
  },
  {
   "cell_type": "code",
   "execution_count": 18,
   "id": "1a62729f",
   "metadata": {},
   "outputs": [],
   "source": [
    "import faiss\n",
    "import numpy as np"
   ]
  },
  {
   "cell_type": "code",
   "execution_count": 19,
   "id": "2e626a1c",
   "metadata": {},
   "outputs": [
    {
     "name": "stdout",
     "output_type": "stream",
     "text": [
      "Number of vectors in the index: 1\n"
     ]
    }
   ],
   "source": [
    "# Step 1: Convert embeddings to a NumPy array (required for FAISS)\n",
    "embeddings_np = embeddings.detach().numpy()  # Convert PyTorch tensor to NumPy array\n",
    "\n",
    "# Step 2: Initialize FAISS index\n",
    "d = embeddings_np.shape[1]  # Dimension of embeddings\n",
    "index = faiss.IndexFlatL2(d)  # Using L2 (Euclidean) distance\n",
    "\n",
    "# Step 3: Add embeddings to the FAISS index\n",
    "index.add(embeddings_np)\n",
    "\n",
    "# Check the number of vectors in the index\n",
    "print(f\"Number of vectors in the index: {index.ntotal}\")"
   ]
  },
  {
   "cell_type": "code",
   "execution_count": 20,
   "id": "8b2b63c2",
   "metadata": {},
   "outputs": [
    {
     "name": "stdout",
     "output_type": "stream",
     "text": [
      "Top 5 nearest neighbors (indices): [[ 0 -1 -1 -1 -1]]\n",
      "Distances: [[0.0000000e+00 3.4028235e+38 3.4028235e+38 3.4028235e+38 3.4028235e+38]]\n"
     ]
    }
   ],
   "source": [
    "# Step 4: Create a query embedding (let's use the first document as a query example)\n",
    "query_embedding = embeddings_np[0:1]\n",
    "\n",
    "# Step 5: Perform search in the FAISS index\n",
    "k = 5  # Number of nearest neighbors to retrieve\n",
    "distances, indices = index.search(query_embedding, k)\n",
    "\n",
    "# Display the results\n",
    "print(f\"Top {k} nearest neighbors (indices): {indices}\")\n",
    "print(f\"Distances: {distances}\")"
   ]
  },
  {
   "cell_type": "code",
   "execution_count": null,
   "id": "0cac9366",
   "metadata": {},
   "outputs": [],
   "source": []
  },
  {
   "cell_type": "code",
   "execution_count": null,
   "id": "4e0e702a",
   "metadata": {},
   "outputs": [],
   "source": []
  },
  {
   "cell_type": "code",
   "execution_count": null,
   "id": "f243816a",
   "metadata": {},
   "outputs": [],
   "source": []
  },
  {
   "cell_type": "code",
   "execution_count": null,
   "id": "b08bd3f7",
   "metadata": {},
   "outputs": [],
   "source": []
  },
  {
   "cell_type": "code",
   "execution_count": null,
   "id": "3437576c",
   "metadata": {},
   "outputs": [],
   "source": []
  },
  {
   "cell_type": "code",
   "execution_count": null,
   "id": "40a9c3e6",
   "metadata": {},
   "outputs": [],
   "source": []
  },
  {
   "cell_type": "code",
   "execution_count": null,
   "id": "afc176d8",
   "metadata": {},
   "outputs": [],
   "source": []
  },
  {
   "cell_type": "code",
   "execution_count": null,
   "id": "b6f3e48d",
   "metadata": {},
   "outputs": [],
   "source": []
  }
 ],
 "metadata": {
  "kernelspec": {
   "display_name": "Python 3 (ipykernel)",
   "language": "python",
   "name": "python3"
  },
  "language_info": {
   "codemirror_mode": {
    "name": "ipython",
    "version": 3
   },
   "file_extension": ".py",
   "mimetype": "text/x-python",
   "name": "python",
   "nbconvert_exporter": "python",
   "pygments_lexer": "ipython3",
   "version": "3.9.13"
  }
 },
 "nbformat": 4,
 "nbformat_minor": 5
}
