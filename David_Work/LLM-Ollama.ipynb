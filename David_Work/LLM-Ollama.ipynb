{
 "cells": [
  {
   "cell_type": "code",
   "execution_count": 1,
   "metadata": {},
   "outputs": [],
   "source": [
    "import pickle\n",
    "\n",
    "# Load the pickle file\n",
    "with open('Vectordatabase/financial_chunks_metadata_sentences.pkl', 'rb') as file:\n",
    "    text_chunks = pickle.load(file)"
   ]
  },
  {
   "cell_type": "code",
   "execution_count": 2,
   "metadata": {},
   "outputs": [
    {
     "name": "stderr",
     "output_type": "stream",
     "text": [
      "c:\\Users\\David\\AppData\\Local\\Programs\\Python\\Python311\\Lib\\site-packages\\sentence_transformers\\cross_encoder\\CrossEncoder.py:13: TqdmWarning: IProgress not found. Please update jupyter and ipywidgets. See https://ipywidgets.readthedocs.io/en/stable/user_install.html\n",
      "  from tqdm.autonotebook import tqdm, trange\n"
     ]
    },
    {
     "name": "stdout",
     "output_type": "stream",
     "text": [
      "Query: what food can I get to eat\n",
      "Retrieved documents:\n",
      "1: Document Index 17 (Distance: 1.1764)\n",
      "Our FoodOur Menu. Our menu features unrivaled Chicago-style street food and all-American favorites —s omething for everyone! We're known for\n",
      "our famous Chicago-style hot dogs, Italian beef sandwiches, chopped salad, cheese fries, homemade chocolate cake, and chocolate cake\n",
      "shake. Our Italian beef is slow-roasted for four hours, thinly sliced, and served on freshly-baked French bread. Then, it's dipped in hot\n",
      "gravy made with our homemade blend of seasonings that we've been perfecting for 60 years.\n"
     ]
    }
   ],
   "source": [
    "import numpy as np\n",
    "import faiss\n",
    "from sentence_transformers import SentenceTransformer\n",
    "\n",
    "# Initialize SentenceTransformer model\n",
    "text_embedder = SentenceTransformer('all-MiniLM-L6-v2')\n",
    "\n",
    "# Load the existing FAISS index\n",
    "index = faiss.read_index('Vectordatabase/financial_docs_text_index_sentences.faiss')\n",
    "\n",
    "def retrieve_similar(query, k=1):\n",
    "    # Get query embedding\n",
    "    query_embedding = text_embedder.encode([query])\n",
    "    # Search in FAISS index\n",
    "    distances, indices = index.search(query_embedding.astype(np.float32), k)\n",
    "    return indices, distances\n",
    "\n",
    "# Example query\n",
    "query = \"what food can I get to eat\"\n",
    "indices, distances = retrieve_similar(query)\n",
    "\n",
    "# Display results\n",
    "print(\"Query:\", query)\n",
    "print(\"Retrieved documents:\")\n",
    "for i, idx in enumerate(indices[0]):\n",
    "    print(f\"{i + 1}: Document Index {idx} (Distance: {distances[0][i]:.4f})\")\n",
    "    print(text_chunks[idx]['raw_text'])"
   ]
  },
  {
   "cell_type": "code",
   "execution_count": 3,
   "metadata": {},
   "outputs": [
    {
     "name": "stdout",
     "output_type": "stream",
     "text": [
      "Here's one:\n",
      "\n",
      "Why did the llama refuse to play poker?\n",
      "\n",
      "Because he always got fleeced! (get it?)\n"
     ]
    }
   ],
   "source": [
    "from langchain_community.llms import Ollama\n",
    "\n",
    "llm = Ollama(model=\"llama3.2\")\n",
    "prompt = \"Tell me a joke about llama\"\n",
    "result = llm.invoke(prompt)\n",
    "print(result)"
   ]
  },
  {
   "cell_type": "code",
   "execution_count": null,
   "metadata": {},
   "outputs": [],
   "source": [
    "def generate_response(query):\n",
    "    indices, distances = retrieve_similar(query)\n",
    "    context = \"\\n\".join([text_chunks[idx]['raw_text'] for _, idx in enumerate(indices[0])])\n",
    "    # Prepare the input for the T5 model\n",
    "    input_text = f\"question: {query} context: {context}. Let me know if the context was useful.\"\n",
    "\n",
    "\n",
    "\n",
    "    response = llm.invoke(input_text)\n",
    "\n",
    "    return context, response"
   ]
  },
  {
   "cell_type": "code",
   "execution_count": 38,
   "metadata": {},
   "outputs": [
    {
     "name": "stdout",
     "output_type": "stream",
     "text": [
      "Query: What type of customers do Portillos cater to?\n",
      "Context: Overview of Portillo's\n",
      "Portillo’s serves iconic Chicago street food in high-energy, multichannel restaurants designed to ignite the senses and create memorable\n",
      "dining experiences. Since our founding in 1963 in a small trailer that Dick Portillo called “The Dog House,” we have grown to become a\n",
      "treasured brand with a passionate (some might say obsessed) nationwide following. Our diverse menu features all-American favorites\n",
      "such as Chicago-style hot dogs and sausages, Italian beef sandwiches, char-grilled burgers, chopped salads, crinkle-cut fries, homemade\n",
      "chocolate cake and signature chocolate cake shake. We create a consumer experience like no other by combining the best attributes of\n",
      "fast-casual and quick-service concepts with an exciting energy-filled atmosphere in a restaurant model capable of generating tremendous\n",
      "volumes. Nearly all of our restaurants were built with double lane drive-thrus and have been thoughtfully designed with a layout that\n",
      "accommodates a variety of access modes including dine-in, carryout, delivery and catering to quickly and efficiently serve our guests.\n",
      "Generated Response: Yes, the context provided is very helpful in understanding what type of customers Portillo's caters to. Here's a summary:\n",
      "\n",
      "Portillo's serves iconic Chicago street food in high-energy, multichannel restaurants that aim to create memorable dining experiences. The brand has a loyal following and has grown from its humble beginnings as a small trailer in 1963. According to the text, the customers who frequent Portillo's can be broadly categorized into several groups:\n",
      "\n",
      "1. Locals: Many of their customers are Chicagoans who have developed a passionate interest in their favorite foods and experience.\n",
      "2. Tourists: With their high-energy atmosphere and iconic menu items like Chicago-style hot dogs and Italian beef sandwiches, Portillos attract tourists who are looking for authentic taste of the Windy City.\n",
      "3. Foodies: The restaurant's commitment to using all-American favorites and creating a memorable dining experience has likely attracted food enthusiasts who appreciate the diversity of Portillo's menu offerings.\n",
      "\n",
      "Overall, it appears that Portillo's caters to customers who value convenience, variety, and a unique dining experience, particularly those with an interest in Chicago culture and cuisine.\n"
     ]
    }
   ],
   "source": [
    "# Example query\n",
    "query = \"What type of customers do Portillos cater to?\"\n",
    "context, response = generate_response(query)\n",
    "\n",
    "print(\"Query:\", query)\n",
    "print(\"Context:\", context)\n",
    "print(\"Generated Response:\", response)"
   ]
  },
  {
   "cell_type": "code",
   "execution_count": 26,
   "metadata": {},
   "outputs": [
    {
     "name": "stdout",
     "output_type": "stream",
     "text": [
      "Query: What type of customers do Portillos cater to?\n",
      "Context: engages senses operating model focused getting delicious madetoorder food guests quickly atmosphere makes experience delicious meal guests walk portillo ’ s get experience completely different typical chain restaurant visit restaurants engage senses create fun relaxed memorable occasion dining areas evoke nostalgia local influences two portillo ’ s alike restaurants themed decor ranging 1930s prohibition motif 1950s diner 1960s\n",
      "Generated Response: Your context is very informative and helpful in understanding what type of customers Portillos cater to. Here's a breakdown of your context:\n",
      "\n",
      "- \"Portillo's\" refers to a specific fast-food restaurant chain that serves Italian beef sandwiches, hot dogs, and other American-style comfort food.\n",
      "- The operating model focused on getting delicious, made-to-order food guests quickly suggests that the primary goal is to provide speedy service with high-quality food to keep customers satisfied while they wait.\n",
      "- The atmosphere at Portillos creates a unique experience for each location by incorporating different themes (1930s prohibition motif and 1950s diner) to evoke nostalgia in potential customers. This creates an immersive experience, setting apart the restaurant from other chain restaurants.\n",
      "- Dining areas are designed to be inviting and relaxed, suggesting that Portillos aims to make guests feel comfortable and enjoy their dining experience.\n",
      "\n",
      "Considering these points:\n",
      "\n",
      "1. **Target audience:** The primary target audience appears to be individuals looking for a casual, quick meal or snack with a nostalgic twist.\n",
      "2. **Behavioral characteristics:** Customers seem to value convenience (fast service) and uniqueness (different themes and decor across locations), which suggests they are likely busy professionals, families, or individuals with limited time on their hands.\n",
      "3. **Psychographic characteristics:** The emphasis on nostalgia and creating an immersive experience might appeal to customers who seek memorable dining experiences that evoke feelings of warmth and familiarity.\n",
      "\n",
      "In summary, your context helps me understand that Portillos is catering to a specific type of customer - those seeking a quick, high-quality meal with a unique experience, often in a nostalgic environment.\n"
     ]
    }
   ],
   "source": [
    "llm = Ollama(model=\"llama3.2:1b\")\n",
    "\n",
    "# Example query\n",
    "query = \"What type of customers do Portillos cater to?\"\n",
    "context, response = generate_response(query)\n",
    "\n",
    "print(\"Query:\", query)\n",
    "print(\"Context:\", context)\n",
    "print(\"Generated Response:\", response)"
   ]
  },
  {
   "cell_type": "code",
   "execution_count": 28,
   "metadata": {},
   "outputs": [
    {
     "name": "stdout",
     "output_type": "stream",
     "text": [
      "Query: What type of customers do Portillos cater to?\n",
      "Generated Response: Portillo's is a popular American-style hot dog and Italian beef restaurant chain, particularly known for their hot dogs. Based on their menu and target market, it appears that Portillo's primarily caters to the following types of customers:\n",
      "\n",
      "1. Foodies: People who enjoy trying new flavors and cuisines, especially those from different cultural backgrounds.\n",
      "2. Hot Dog Enthusiasts: Individuals who are passionate about hot dogs and look for high-quality, authentic Chicago-style hot dogs.\n",
      "3. Italian Beef Lovers: Fans of Italian beef sandwiches, which Portillo's is famous for serving, as well as other Italian-American dishes.\n",
      "4. Students and Young Professionals: People working in the surrounding areas, particularly those living in or near the city of Chicago, who might appreciate the casual dining atmosphere and affordable prices.\n",
      "\n",
      "Portillo's also tends to attract a more affluent demographic due to their upscale restaurant experience, which includes:\n",
      "\n",
      "* A focus on quality ingredients\n",
      "* Classic, comforting dishes with a twist\n",
      "* Unique menu items that are not typically found in fast-food chains\n",
      "* A trendy, urban ambiance\n",
      "\n",
      "Overall, Portillo's seems to target customers who appreciate good food, good service, and a fun dining experience, particularly those within the 25-50 age range.\n"
     ]
    }
   ],
   "source": [
    "def generate_contextless_response(query):\n",
    "\n",
    "\n",
    "    response = llm.invoke(query)\n",
    "\n",
    "    return response\n",
    "\n",
    "# Example query\n",
    "query = \"What type of customers do Portillos cater to?\"\n",
    "response = generate_contextless_response(query)\n",
    "\n",
    "print(\"Query:\", query)\n",
    "print(\"Generated Response:\", response)"
   ]
  },
  {
   "cell_type": "code",
   "execution_count": 29,
   "metadata": {},
   "outputs": [
    {
     "name": "stdout",
     "output_type": "stream",
     "text": [
      "Query: What type of customers do Portillos cater to? You not have to use the context provided to help with your answer. Rate how useful the context was.\n",
      "Context: engages senses operating model focused getting delicious madetoorder food guests quickly atmosphere makes experience delicious meal guests walk portillo ’ s get experience completely different typical chain restaurant visit restaurants engage senses create fun relaxed memorable occasion dining areas evoke nostalgia local influences two portillo ’ s alike restaurants themed decor ranging 1930s prohibition motif 1950s diner 1960s\n",
      "Generated Response: I would rate the usefulness of the context as 8 out of 10.\n",
      "\n",
      "The context provides valuable information about Portillos, such as their unique atmosphere, menu offerings, and dining experience. It also highlights the differences between two of their locations, which can help readers understand how different settings can affect the customer experience. The mention of local influences, nostalgic theme, and themed decor also adds depth to the analysis.\n",
      "\n",
      "However, there are a few areas where the context could be more useful:\n",
      "\n",
      "* While it mentions the Prohibition motif, it doesn't provide specific details about what this aspect entails or how it's executed in each location.\n",
      "* The 1950s Diner and 1960s theme isn't fully explored. It would be beneficial to know more about these elements and how they contribute to the overall atmosphere.\n",
      "* The mention of guests walking into a completely different experience compared to typical chain restaurants is intriguing, but it's not explicitly stated what makes this experience unique or memorable.\n",
      "\n",
      "Overall, the context provides a good foundation for understanding Portillos' brand identity and customer experience, but could benefit from additional details on specific aspects.\n"
     ]
    }
   ],
   "source": [
    "# Example query\n",
    "query = \"What type of customers do Portillos cater to? You not have to use the context provided to help with your answer. Rate how useful the context was.\"\n",
    "context, response = generate_response(query)\n",
    "\n",
    "print(\"Query:\", query)\n",
    "print(\"Context:\", context)\n",
    "print(\"Generated Response:\", response)"
   ]
  },
  {
   "cell_type": "code",
   "execution_count": 31,
   "metadata": {},
   "outputs": [
    {
     "name": "stdout",
     "output_type": "stream",
     "text": [
      "Query: Is Portillo's scalable? If the context doesn't help, do not use it. Rate how useful the context was.\n",
      "Context: december 6 2019 among portillo ’ s holdings llc borrower phd intermediate llc ubs ag stamford branch administrative agent 107 collateral agent lenders time time party thereto incorporated reference company ’ s registration statement form s1 filed september 27 2021 portillo ’ s inc 2021 equity incentive plan incorporated reference companys form 10q filed 108\n",
      "Generated Response: I would rate the usefulness of the context as neutral to somewhat negative.\n",
      "\n",
      "The context is quite long and provides a lot of technical details, which can be overwhelming without prior knowledge or interest in Portillo's Holdings LLC (PHL). While it's helpful for someone who wants to dive deep into the company's financials, it may not provide much value to an outside observer. The mention of specific documents like S1 filing and 10Q filing also adds a layer of complexity that might make it difficult for new readers to quickly understand the context.\n",
      "\n",
      "A more concise or introductory statement could have provided a better foundation for understanding the purpose of the context without overwhelming the reader with too much detail.\n"
     ]
    }
   ],
   "source": [
    "# Example query\n",
    "query = \"Is Portillo's scalable? If the context doesn't help, do not use it. Rate how useful the context was.\"\n",
    "context, response = generate_response(query)\n",
    "\n",
    "print(\"Query:\", query)\n",
    "print(\"Context:\", context)\n",
    "print(\"Generated Response:\", response)"
   ]
  },
  {
   "cell_type": "code",
   "execution_count": 32,
   "metadata": {},
   "outputs": [
    {
     "name": "stdout",
     "output_type": "stream",
     "text": [
      "Query: Is Portillo's scalable?\n",
      "Generated Response: Portillo's is a popular fast-casual restaurant chain that serves Italian and Chicago-style beef hot dogs. While it has grown significantly in popularity, its scalability can be debated.\n",
      "\n",
      "Here are some factors to consider:\n",
      "\n",
      "Pros:\n",
      "\n",
      "1. **Franchise model**: Portillo's has a franchise model, which allows existing restaurants to expand their operations by buying into the brand. This makes it easier for new owners to enter the market.\n",
      "2. **Strong brand recognition**: Portillo's has built a loyal following over the years, which can help attract customers from across the region.\n",
      "\n",
      "Cons:\n",
      "\n",
      "1. **Limited menu offerings**: Portillo's is known for its hot dogs and Italian-American cuisine, but its menu offerings may not be as diverse as those of larger restaurants.\n",
      "2. **Supply chain complexity**: As the brand expands, managing a large number of locations can become increasingly complex, particularly when it comes to food quality control and logistics.\n",
      "3. **Staffing requirements**: Portillo's prides itself on serving high-quality food quickly, which requires trained staff who can handle large volumes efficiently.\n",
      "\n",
      "To answer whether Portillo's is scalable, consider the following:\n",
      "\n",
      "1. **Current restaurant size**: Most locations are around 5,000-7,000 square feet, which may be manageable for a small group of franchise owners.\n",
      "2. **Number of locations**: The brand has grown rapidly in recent years, with over 40 locations across the United States. This growth model is likely to continue, requiring more efficient operations and supply chain management.\n",
      "3. **Franchisee investment**: Franchisees need to invest significant money into their Portillo's location, including initial franchise fees, equipment purchases, and marketing expenses.\n",
      "\n",
      "While Portillo's may not be the most scalable fast-casual restaurant in terms of menu offerings or global reach, its franchise model provides a viable option for owners who want to expand quickly while maintaining some level of control. However, it's essential for new owners to carefully consider their resources and capabilities before embarking on this venture.\n"
     ]
    }
   ],
   "source": [
    "# Example query\n",
    "query = \"Is Portillo's scalable?\"\n",
    "response = generate_contextless_response(query)\n",
    "\n",
    "print(\"Query:\", query)\n",
    "print(\"Generated Response:\", response)"
   ]
  },
  {
   "cell_type": "code",
   "execution_count": 33,
   "metadata": {},
   "outputs": [
    {
     "name": "stdout",
     "output_type": "stream",
     "text": [
      "Query: Are they scalable? Company: Portillo's\n",
      "Generated Response: Portillo's is a Chicago-based fast-casual restaurant chain, and as such, their scalability is a significant aspect to consider. Here are some insights:\n",
      "\n",
      "**Strengths:**\n",
      "\n",
      "1. **Existing infrastructure**: Portillo's has an established presence in the Midwest region, with multiple locations across Illinois, Indiana, and Wisconsin. This existing infrastructure provides a solid foundation for scaling.\n",
      "2. **Brand recognition**: The Portillo's brand is well-known and trusted in the Midwest, which can help attract new customers and increase customer loyalty as the company scales.\n",
      "3. **Menu offerings**: The menu at Portillo's has evolved over time to include more options and limited-time flavors, making it easier to expand and adapt to changing consumer preferences.\n",
      "\n",
      "**Challenges:**\n",
      "\n",
      "1. **Supply chain management**: With multiple locations, managing supply chains for ingredients, meat, and produce can become complex and costly.\n",
      "2. **Inventory management**: Balancing inventory levels across locations while maintaining profitability requires careful planning and execution.\n",
      "3. **Labor costs**: As the company expands, labor costs will increase, which may impact margins and profitability.\n",
      "\n",
      "**Scalability strategies:**\n",
      "\n",
      "1. **Store development**: Portillo's could focus on developing new store formats in areas with strong demand, such as urban locations or outdoor settings (e.g., parks).\n",
      "2. **Menu engineering**: Streamlining menu offerings to reduce complexity while maintaining quality can help improve operational efficiency and scalability.\n",
      "3. **Technology integration**: Implementing digital technologies, such as mobile ordering and payment systems, can enhance the customer experience and streamline operations.\n",
      "\n",
      "**Conclusion:**\n",
      "\n",
      "Portillo's has the potential to scale its business by focusing on existing infrastructure, brand recognition, and menu offerings. However, managing supply chains, inventory levels, and labor costs will be critical in achieving scalability. By developing new store formats, refining menu engineering, and leveraging technology, Portillo's can continue to grow and expand while maintaining its core values and customer experience.\n",
      "\n",
      "As a side note, it's worth mentioning that the concept of \"Portillo's\" is being rebranded as \"Chicago-Style Hot Dogs\" in some locations. This change aims to appeal to new customers who may be unfamiliar with Portillo's menu offerings or brand identity.\n"
     ]
    }
   ],
   "source": [
    "# Example query\n",
    "query = \"Are they scalable? Company: Portillo's\"\n",
    "response = generate_contextless_response(query)\n",
    "\n",
    "print(\"Query:\", query)\n",
    "print(\"Generated Response:\", response)"
   ]
  },
  {
   "cell_type": "code",
   "execution_count": 40,
   "metadata": {},
   "outputs": [
    {
     "name": "stdout",
     "output_type": "stream",
     "text": [
      "Query: Is Portillo's scalable?\n",
      "Context: Overview of Portillo's\n",
      "Portillo’s serves iconic Chicago street food in high-energy, multichannel restaurants designed to ignite the senses and create memorable\n",
      "dining experiences. Since our founding in 1963 in a small trailer that Dick Portillo called “The Dog House,” we have grown to become a\n",
      "treasured brand with a passionate (some might say obsessed) nationwide following. Our diverse menu features all-American favorites\n",
      "such as Chicago-style hot dogs and sausages, Italian beef sandwiches, char-grilled burgers, chopped salads, crinkle-cut fries, homemade\n",
      "chocolate cake and signature chocolate cake shake. We create a consumer experience like no other by combining the best attributes of\n",
      "fast-casual and quick-service concepts with an exciting energy-filled atmosphere in a restaurant model capable of generating tremendous\n",
      "volumes. Nearly all of our restaurants were built with double lane drive-thrus and have been thoughtfully designed with a layout that\n",
      "accommodates a variety of access modes including dine-in, carryout, delivery and catering to quickly and efficiently serve our guests.\n",
      "Generated Response: Yes, the provided context is extremely useful for understanding Portillo's operations and scalability. It gives insight into their history, menu offerings, restaurant design, and business model.\n",
      "\n",
      "Here are some key points that highlight Portillo's scalability:\n",
      "\n",
      "1. **Diverse menu**: Portillo's offers a wide range of iconic Chicago street food items, which can be easily scaled up or down depending on demand.\n",
      "2. **Fast-casual and quick-service concepts**: Portillo's combines the best attributes of fast-casual and quick-service models to create a convenient experience for customers, making it easy to scale their operations.\n",
      "3. **Double lane drive-thrus**: Most of Portillo's restaurants are built with double lane drive-thrus, which can be easily replicated in new locations or expanded in existing ones.\n",
      "4. **Designated layout**: The restaurants' design accommodates a variety of access modes (dine-in, carryout, delivery, catering), making it possible to scale their operations without needing to redesign the layout each time.\n",
      "5. **Efficient service model**: Portillo's has thoughtfully designed their layouts to accommodate multiple dining modes, ensuring that customers can easily find what they need while minimizing wait times.\n",
      "\n",
      "By understanding these factors, potential investors or business partners could assess Portillo's scalability and make informed decisions about whether to expand or enter the market with them.\n"
     ]
    }
   ],
   "source": [
    "# Example query\n",
    "query = \"Is Portillo's scalable?\"\n",
    "context, response = generate_response(query)\n",
    "\n",
    "print(\"Query:\", query)\n",
    "print(\"Context:\", context)\n",
    "print(\"Generated Response:\", response)"
   ]
  },
  {
   "cell_type": "code",
   "execution_count": 11,
   "metadata": {},
   "outputs": [],
   "source": [
    "llm = Ollama(model=\"llama3.2:1b\")\n",
    "def generate_response(query):\n",
    "    indices, distances = retrieve_similar(query)\n",
    "    context = \"\\n\".join([text_chunks[idx]['raw_text'] for _, idx in enumerate(indices[0])])\n",
    "    # Prepare the input for the T5 model\n",
    "    input_text = f\"question: {query} context: {context}.\"\n",
    "\n",
    "\n",
    "\n",
    "    response = llm.invoke(input_text)\n",
    "\n",
    "    return context, response"
   ]
  },
  {
   "cell_type": "code",
   "execution_count": 12,
   "metadata": {},
   "outputs": [
    {
     "name": "stdout",
     "output_type": "stream",
     "text": [
      "Query: How does Portillo’s manage supply chain risks?\n",
      "Context: Portillo's Inc. Form 10-K | 34Table of Contents\n",
      "ITEM 7A. QUANTITATIVE AND QUALITATIVE DISCLOSURES ABOUT MARKET RISK\n",
      "Commodity and Food Price Risks\n",
      "We are exposed to commodity price risks. Many of the ingredients we use to prepare our food, as well as our packaging materials, are\n",
      "commodities or are affected by the price of other commodities. Factors that affect the price of commodities are generally outside of our\n",
      "control and include raw material inputs, geopolitical events, weather conditions, currency markets and global supply and demand\n",
      "dynamics, among other items. In order to minimize the impact of fluctuations in price and availability, we monitor the primary commodities we purchase and may enter\n",
      "into purchasing contracts and pricing arrangements when considered to be advantageous.\n",
      "Generated Response: According to Portillo's Inc.'s Form 10-K, the company manages supply chain risks through various means, including:\n",
      "\n",
      "1. Monitoring commodity prices: The company tracks the price of ingredients, packaging materials, and other commodities that affect its business.\n",
      "2. Purchasing contracts and pricing arrangements: When considering purchasing a commodity or material, Portillo's may enter into purchasing contracts or negotiate pricing arrangements to minimize the impact of fluctuations in price and availability.\n",
      "3. Inventory management: The company manages inventory levels to mitigate the effects of supply chain disruptions and price fluctuations.\n",
      "\n",
      "By taking these steps, Portillo's aims to reduce its exposure to commodity price risks and ensure a stable supply of ingredients for its food products.\n"
     ]
    }
   ],
   "source": [
    "# Example query\n",
    "query = \"How does Portillo’s manage supply chain risks?\"\n",
    "context, response = generate_response(query)\n",
    "\n",
    "print(\"Query:\", query)\n",
    "print(\"Context:\", context)\n",
    "print(\"Generated Response:\", response)"
   ]
  },
  {
   "cell_type": "code",
   "execution_count": null,
   "metadata": {},
   "outputs": [],
   "source": [
    "llm = Ollama(model=\"llama3.2\")\n",
    "query = \"How does Portillo’s manage supply chain risks?\"\n",
    "context, response = generate_response(query)\n",
    "\n",
    "print(\"Query:\", query)\n",
    "print(\"Context:\", context)\n",
    "print(\"Generated Response:\", response)"
   ]
  },
  {
   "cell_type": "code",
   "execution_count": null,
   "metadata": {},
   "outputs": [],
   "source": []
  }
 ],
 "metadata": {
  "kernelspec": {
   "display_name": "Python 3",
   "language": "python",
   "name": "python3"
  },
  "language_info": {
   "codemirror_mode": {
    "name": "ipython",
    "version": 3
   },
   "file_extension": ".py",
   "mimetype": "text/x-python",
   "name": "python",
   "nbconvert_exporter": "python",
   "pygments_lexer": "ipython3",
   "version": "3.11.0"
  }
 },
 "nbformat": 4,
 "nbformat_minor": 2
}
