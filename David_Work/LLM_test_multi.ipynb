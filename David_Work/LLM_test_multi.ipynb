{
 "cells": [
  {
   "cell_type": "code",
   "execution_count": 1,
   "metadata": {},
   "outputs": [
    {
     "name": "stderr",
     "output_type": "stream",
     "text": [
      "c:\\Users\\David\\AppData\\Local\\Programs\\Python\\Python311\\Lib\\site-packages\\sentence_transformers\\cross_encoder\\CrossEncoder.py:13: TqdmWarning: IProgress not found. Please update jupyter and ipywidgets. See https://ipywidgets.readthedocs.io/en/stable/user_install.html\n",
      "  from tqdm.autonotebook import tqdm, trange\n"
     ]
    }
   ],
   "source": [
    "import pickle\n",
    "\n",
    "# Load the pickle file\n",
    "with open('Vectordatabase/financial_chunks_metadata_sentences.pkl', 'rb') as file:\n",
    "    text_chunks = pickle.load(file)\n",
    "\n",
    "import numpy as np\n",
    "import faiss\n",
    "from sentence_transformers import SentenceTransformer\n",
    "\n",
    "# Initialize SentenceTransformer model\n",
    "text_embedder = SentenceTransformer('all-MiniLM-L6-v2')\n",
    "\n",
    "\n",
    "def retrieve_similar(query, k=1):\n",
    "    # Get query embedding\n",
    "    query_embedding = text_embedder.encode([query])\n",
    "    # Search in FAISS index\n",
    "    distances, indices = index.search(query_embedding.astype(np.float32), k)\n",
    "    return indices, distances\n",
    "\n",
    "def generate_response(query):\n",
    "    indices, distances = retrieve_similar(query)\n",
    "    context = \"\\n\".join([text_chunks[idx]['raw_text'] for _, idx in enumerate(indices[0])])\n",
    "\n",
    "    return context"
   ]
  },
  {
   "cell_type": "code",
   "execution_count": 2,
   "metadata": {},
   "outputs": [],
   "source": [
    "import pandas as pd\n",
    "\n",
    "# Function to convert text file to DataFrame\n",
    "def text_to_dataframe(file_path):\n",
    "    questions = []\n",
    "    answers = []\n",
    "    \n",
    "    with open(file_path, 'r', encoding='utf-8') as file:\n",
    "        content = file.read().strip()\n",
    "        entries = content.split('\\n\\n')  # Split on double newline for each Q&A\n",
    "        \n",
    "        for entry in entries:\n",
    "            if entry.strip():  # Ensure the entry is not empty\n",
    "                lines = entry.split('\\n')\n",
    "                if len(lines) >= 2:  # Ensure there are at least 2 lines (Q and A)\n",
    "                    question = lines[0].replace('Q: ', '').strip()\n",
    "                    answer = lines[1].replace('A: ', '').strip()\n",
    "                    questions.append(question)\n",
    "                    answers.append(answer)\n",
    "\n",
    "    # Create a DataFrame\n",
    "    df = pd.DataFrame({'Question': questions, 'Answer': answers})\n",
    "    return df"
   ]
  },
  {
   "cell_type": "code",
   "execution_count": 13,
   "metadata": {},
   "outputs": [],
   "source": [
    "# For document in Data that's not PTLO 2023 Q4 10K\n",
    "import os\n",
    "\n",
    "\n",
    "folder_path = \"../Data\"\n",
    "\n",
    "# Loop through each file in the folder\n",
    "for filename in os.listdir(folder_path):\n",
    "    if filename.endswith(\".pdf\"):\n",
    "        filename_without_spaces_and_extension = filename.replace(\" \", \"\").replace(\".pdf\", \"\")\n",
    "        index = faiss.read_index('Vectordatabase/financial_docs_text_index_sentences_' + filename_without_spaces_and_extension + '.faiss')\n",
    "        with open('Vectordatabase/financial_chunks_metadata_sentences_' + filename_without_spaces_and_extension + '.pkl', 'rb') as file:\n",
    "            text_chunks = pickle.load(file)\n",
    "        file_path = \"../Data/\"\n",
    "        file_path = file_path + filename.replace(\".pdf\", \"\")\n",
    "        file_path = file_path + \".txt\"\n",
    "        df = text_to_dataframe(file_path)\n",
    "        df['RAG_context'] = df['Question'].apply(generate_response)\n",
    "        df.to_csv(\"LLM_\" + filename_without_spaces_and_extension + \"_test.csv\")\n",
    "\n",
    "        "
   ]
  },
  {
   "cell_type": "code",
   "execution_count": 15,
   "metadata": {},
   "outputs": [],
   "source": [
    "def generate_response(query, context):\n",
    "    \n",
    "    input_text = f\"question: {query} context: {context}. Please limit the response to 5 sentences, and use visual language to explain the concept. No images, and no newlines just a short one sentence overall summary, then the next few building up a story to support the summary.\"\n",
    "\n",
    "\n",
    "    chat_completion = client.chat.completions.create(\n",
    "        messages=[\n",
    "            {\n",
    "                \"role\": \"user\",\n",
    "                \"content\": input_text,\n",
    "            }\n",
    "        ],\n",
    "        model=\"llama3-8b-8192\",\n",
    "    )\n",
    "\n",
    "    response = chat_completion.choices[0].message.content\n",
    "\n",
    "    return response"
   ]
  },
  {
   "cell_type": "code",
   "execution_count": 16,
   "metadata": {},
   "outputs": [
    {
     "name": "stdout",
     "output_type": "stream",
     "text": [
      "Processed rows 0 to 29\n",
      "Sleeping for 1 minute...\n",
      "Processed rows 30 to 51\n",
      "Processed rows 0 to 29\n",
      "Sleeping for 1 minute...\n",
      "Processed rows 30 to 44\n",
      "Processed rows 0 to 29\n",
      "Sleeping for 1 minute...\n",
      "Processed rows 30 to 52\n",
      "Processed rows 0 to 29\n",
      "Sleeping for 1 minute...\n",
      "Processed rows 30 to 59\n",
      "Sleeping for 1 minute...\n",
      "Processed rows 60 to 61\n"
     ]
    }
   ],
   "source": [
    "import time\n",
    "from groq import Groq\n",
    "\n",
    "client = Groq(\n",
    "    api_key=os.environ.get(\"GROQ_API_KEY\"),\n",
    ")\n",
    "\n",
    "folder_path = \"Test_Files\"\n",
    "\n",
    "# Loop through each file in the folder\n",
    "for filename in os.listdir(folder_path):\n",
    "    df = pd.read_csv(folder_path + \"/\" + filename)\n",
    "    # Loop through the DataFrame, processing 30 rows every minute\n",
    "    for start_idx in range(0, len(df), 30):\n",
    "        end_idx = min(start_idx + 30, len(df))  # Ensure we don't go out of bounds\n",
    "        \n",
    "        # Apply the function to the current chunk using both columns\n",
    "        df.loc[start_idx:end_idx-1, 'RAG_5_sent_visual'] = df.loc[start_idx:end_idx-1].apply(\n",
    "            lambda row: generate_response(row['Question'], row['RAG_context']), axis=1\n",
    "        )\n",
    "        \n",
    "        # Print progress for tracking\n",
    "        print(f\"Processed rows {start_idx} to {end_idx - 1}\")\n",
    "        \n",
    "        # Sleep for 60 seconds after processing each chunk\n",
    "        if end_idx < len(df):  # No need to sleep after the last chunk\n",
    "            print(\"Sleeping for 1 minute...\")\n",
    "            time.sleep(60)\n",
    "    df.to_csv(\"LLM_Test_Files/\" + filename)"
   ]
  }
 ],
 "metadata": {
  "kernelspec": {
   "display_name": "Python 3",
   "language": "python",
   "name": "python3"
  },
  "language_info": {
   "codemirror_mode": {
    "name": "ipython",
    "version": 3
   },
   "file_extension": ".py",
   "mimetype": "text/x-python",
   "name": "python",
   "nbconvert_exporter": "python",
   "pygments_lexer": "ipython3",
   "version": "3.11.0"
  }
 },
 "nbformat": 4,
 "nbformat_minor": 2
}
