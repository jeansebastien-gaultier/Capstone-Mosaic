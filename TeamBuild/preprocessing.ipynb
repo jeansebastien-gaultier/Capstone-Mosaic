{
 "cells": [
  {
   "cell_type": "markdown",
   "metadata": {},
   "source": [
    "# Steps:\n",
    "\n",
    "- Document Loading\n",
    "- Text Preprocessing\n",
    "- Embedding\n",
    "- Storing"
   ]
  },
  {
   "cell_type": "markdown",
   "metadata": {},
   "source": [
    "### Imports"
   ]
  },
  {
   "cell_type": "markdown",
   "metadata": {},
   "source": [
    "impor"
   ]
  },
  {
   "cell_type": "code",
   "execution_count": null,
   "metadata": {},
   "outputs": [],
   "source": [
    "import re\n",
    "import string\n",
    "from nltk.corpus import stopwords\n",
    "import numpy as np"
   ]
  },
  {
   "cell_type": "code",
   "execution_count": null,
   "metadata": {},
   "outputs": [
    {
     "name": "stderr",
     "output_type": "stream",
     "text": [
      "/Users/jean-sebastiengaultier/Desktop/UChicago/Q4/Capstone-Mosaic/capstone_venv/lib/python3.8/site-packages/tqdm/auto.py:21: TqdmWarning: IProgress not found. Please update jupyter and ipywidgets. See https://ipywidgets.readthedocs.io/en/stable/user_install.html\n",
      "  from .autonotebook import tqdm as notebook_tqdm\n"
     ]
    }
   ],
   "source": [
    "from transformers import AutoTokenizer\n",
    "from sentence_transformers import SentenceTransformer\n",
    "import pdfplumber\n",
    "import os\n",
    "import faiss\n",
    "import pickle"
   ]
  },
  {
   "cell_type": "markdown",
   "metadata": {},
   "source": [
    "Function to deal with the formatting of our text, make sure we have a homogenious corpus (remove stopwords, lowercase, remove punctuation)\n",
    "\n",
    "- Add Lemmatization (maybe)"
   ]
  },
  {
   "cell_type": "code",
   "execution_count": 2,
   "metadata": {},
   "outputs": [],
   "source": [
    "# Preprocessing function\n",
    "def preprocess_text(text):\n",
    "    text = text.lower() # Lowercase the text\n",
    "    text = re.sub(f\"[{re.escape(string.punctuation)}]\", \"\", text) # Remove punctuation\n",
    "    stop_words = set(stopwords.words('english'))\n",
    "    text = \" \".join([word for word in text.split() if word not in stop_words]) # Remove stopwords\n",
    "    return text"
   ]
  },
  {
   "cell_type": "markdown",
   "metadata": {},
   "source": [
    "Function that takes the text from an entire document and then creates chunks of specific size. Maps sentences and chunks of text to a very vast multi dimensional vectorspace\n",
    "\n",
    "- Check how the tokenizer works"
   ]
  },
  {
   "cell_type": "code",
   "execution_count": 4,
   "metadata": {},
   "outputs": [],
   "source": [
    "# Initialize tokenizer for token-based chunking\n",
    "tokenizer = AutoTokenizer.from_pretrained('sentence-transformers/all-MiniLM-L6-v2')\n",
    "\n",
    "# Function to chunk text based on tokens\n",
    "def chunk_text_by_tokens(text, max_tokens=512):\n",
    "    tokens = tokenizer.encode(text)\n",
    "    chunks = []\n",
    "    for i in range(0, len(tokens), max_tokens):\n",
    "        chunk = tokens[i:i+max_tokens]\n",
    "        chunks.append(tokenizer.decode(chunk, skip_special_tokens=True)) \n",
    "    return chunks"
   ]
  },
  {
   "cell_type": "markdown",
   "metadata": {},
   "source": [
    "Embedding model can be switched. We need to see which one is better. (questio how do we test to see which one is better)"
   ]
  },
  {
   "cell_type": "code",
   "execution_count": 8,
   "metadata": {},
   "outputs": [],
   "source": [
    "# Initialize text and image embedding models\n",
    "text_embedder = SentenceTransformer('all-MiniLM-L6-v2')  # Text embeddings\n",
    "\n",
    "# Function to extract and embed images from PDFs\n",
    "def extract_text_and_images_with_preprocessing(pdf_path):\n",
    "    text = \"\"\n",
    "\n",
    "    with pdfplumber.open(pdf_path) as pdf:\n",
    "        for page_num, page in enumerate(pdf.pages):\n",
    "            # Extract text from page\n",
    "            page_text = page.extract_text()\n",
    "            if page_text:\n",
    "                text += page_text  # Append to overall text\n",
    "\n",
    "    # Preprocess and chunk the text\n",
    "    text = preprocess_text(text)\n",
    "    chunks = chunk_text_by_tokens(text, max_tokens=512)\n",
    "\n",
    "    return chunks\n"
   ]
  },
  {
   "cell_type": "code",
   "execution_count": 11,
   "metadata": {},
   "outputs": [],
   "source": [
    "def process_pdfs_with_chunking_and_image_embedding(data_folder):\n",
    "    documents = []\n",
    "    for filename in os.listdir(data_folder):\n",
    "        if filename.endswith(\".pdf\"):\n",
    "            pdf_path = os.path.join(data_folder, filename)\n",
    "            chunks = extract_text_and_images_with_preprocessing(pdf_path)\n",
    "            documents.append({\n",
    "                'chunks': chunks,\n",
    "                'filename': filename\n",
    "            })\n",
    "    return documents\n",
    "\n",
    "# Folder containing your PDFs\n",
    "data_folder = '../Data/'\n",
    "\n",
    "# Process the PDFs with chunking and image embedding\n",
    "documents = process_pdfs_with_chunking_and_image_embedding(data_folder)\n"
   ]
  },
  {
   "cell_type": "code",
   "execution_count": 28,
   "metadata": {},
   "outputs": [
    {
     "name": "stdout",
     "output_type": "stream",
     "text": [
      "huggingface/tokenizers: The current process just got forked, after parallelism has already been used. Disabling parallelism to avoid deadlocks...\n",
      "To disable this warning, you can either:\n",
      "\t- Avoid using `tokenizers` before the fork if possible\n",
      "\t- Explicitly set the environment variable TOKENIZERS_PARALLELISM=(true | false)\n"
     ]
    }
   ],
   "source": [
    "# Embed the chunks\n",
    "def embed_chunks(documents):\n",
    "    for document in documents:\n",
    "        document['chunk_embeddings'] = [{'text': chunk, 'embedding': text_embedder.encode(chunk, convert_to_tensor=True)} for chunk in document['chunks']]\n",
    "    return documents\n",
    "\n",
    "# Embed the chunks of all PDFs\n",
    "embedded_documents = embed_chunks(documents)\n"
   ]
  },
  {
   "cell_type": "markdown",
   "metadata": {},
   "source": [
    "### FAISS Vectordatabase"
   ]
  },
  {
   "cell_type": "code",
   "execution_count": null,
   "metadata": {},
   "outputs": [],
   "source": [
    "\n",
    "build_folder = 'Vectordatabase/'\n",
    "if not os.path.exists(build_folder):\n",
    "    os.makedirs(build_folder)\n",
    "\n",
    "# Initialize FAISS index for text chunks and image embeddings\n",
    "embedding_dim_text = 384  # Dimension of the sentence transformer for text\n",
    "\n",
    "# Create separate FAISS indices for text and image embeddings\n",
    "index_text = faiss.IndexFlatL2(embedding_dim_text)\n",
    "\n",
    "# Flatten all chunk embeddings and image embeddings and store their metadata\n",
    "all_chunk_embeddings = []\n",
    "chunk_metadata = []\n",
    "\n",
    "for document in embedded_documents:\n",
    "    # Add text chunk embeddings to index\n",
    "    for chunk in document['chunk_embeddings']:\n",
    "        all_chunk_embeddings.append(chunk['embedding'].cpu().numpy())\n",
    "        chunk_metadata.append({'filename': document['filename'], 'text': chunk['text']})\n",
    "    \n",
    "\n",
    "# Convert embeddings to numpy arrays\n",
    "all_chunk_embeddings = np.array(all_chunk_embeddings)\n",
    "\n",
    "# Add embeddings to FAISS indices\n",
    "index_text.add(all_chunk_embeddings)\n",
    "\n",
    "# Save FAISS indices and metadata\n",
    "faiss.write_index(index_text, 'financial_docs_text_index.faiss')\n",
    "\n",
    "\n",
    "with open('financial_chunks_metadata.pkl', 'wb') as f:\n",
    "    pickle.dump(chunk_metadata, f)\n",
    "\n"
   ]
  }
 ],
 "metadata": {
  "kernelspec": {
   "display_name": "capstone_venv",
   "language": "python",
   "name": "python3"
  },
  "language_info": {
   "codemirror_mode": {
    "name": "ipython",
    "version": 3
   },
   "file_extension": ".py",
   "mimetype": "text/x-python",
   "name": "python",
   "nbconvert_exporter": "python",
   "pygments_lexer": "ipython3",
   "version": "3.8.0"
  },
  "orig_nbformat": 4
 },
 "nbformat": 4,
 "nbformat_minor": 2
}
